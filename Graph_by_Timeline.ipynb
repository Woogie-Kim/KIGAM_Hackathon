{
 "cells": [
  {
   "cell_type": "code",
   "execution_count": 1,
   "metadata": {
    "collapsed": true,
    "ExecuteTime": {
     "end_time": "2023-06-23T10:42:05.611371900Z",
     "start_time": "2023-06-23T10:42:04.753180400Z"
    }
   },
   "outputs": [],
   "source": [
    "# Import libraries and modules\n",
    "import os\n",
    "import pandas as pd\n",
    "from datetime import datetime\n",
    "import matplotlib.pyplot as plt\n",
    "\n",
    "import warnings\n",
    "warnings.filterwarnings('ignore')\n",
    "\n",
    "import pickle"
   ]
  },
  {
   "cell_type": "code",
   "execution_count": 3,
   "outputs": [],
   "source": [
    "# Dataset directory\n",
    "dataset_master_dir = \"D:\\\\KIGAM_Hackathon\\\\dataset\\\\data\"\n",
    "figure_master_dir = \"D:\\\\KIGAM_Hackathon\\\\figure\"\n",
    "\n",
    "os.chdir(dataset_master_dir)\n",
    "event_list = os.listdir(dataset_master_dir) # ['0', '1', '2', '3', '4', '5', '6', '7', '8']\n",
    "\n",
    "def load_data(filename: str):\n",
    "    csv_path = filename\n",
    "    date_parser_ = lambda x: datetime.strptime(x, \"%Y-%m-%d %H:%M:%S.000000\")\n",
    "    return pd.read_csv(csv_path, sep=\",\", parse_dates=['timestamp'], date_parser=date_parser_)"
   ],
   "metadata": {
    "collapsed": false,
    "ExecuteTime": {
     "end_time": "2023-06-23T10:42:15.215307900Z",
     "start_time": "2023-06-23T10:42:15.211306700Z"
    }
   }
  },
  {
   "cell_type": "code",
   "execution_count": null,
   "outputs": [],
   "source": [
    "for event_str in event_list:\n",
    "    event = int(event_str) # int() value of undesirable events\n",
    "    os.chdir(event_str)\n",
    "    filelist = os.listdir()\n",
    "\n",
    "    for filename in filelist:\n",
    "        datafile = load_data(filename)\n",
    "        for variable in datafile.columns[1:9]:\n",
    "            plot = datafile.plot(x='timestamp', y=variable)\n",
    "            plot.set_ylabel(variable)\n",
    "            plot.set_title(variable + \", Event:1\")\n",
    "            plot.fill_between(datafile['timestamp'].to_numpy(), min(datafile[variable]), max(datafile[variable]), where=(datafile['class']==0), color='green', alpha = 0.3)\n",
    "            plot.fill_between(datafile['timestamp'].to_numpy(), min(datafile[variable]), max(datafile[variable]), where=(datafile['class']==event), color='red', alpha = 0.3)\n",
    "            plot.fill_between(datafile['timestamp'].to_numpy(), min(datafile[variable]), max(datafile[variable]), where=(datafile['class']==event+100), color='yellow', alpha = 0.3)\n",
    "            # # plot.savefig(Event num. + Filename + Variable.png)\n",
    "            # fig = plot.get_figure()\n",
    "            # fig.savefig('test.png') # Can assign directory to save figures.\n"
   ],
   "metadata": {
    "collapsed": false
   }
  }
 ],
 "metadata": {
  "kernelspec": {
   "display_name": "Python 3",
   "language": "python",
   "name": "python3"
  },
  "language_info": {
   "codemirror_mode": {
    "name": "ipython",
    "version": 2
   },
   "file_extension": ".py",
   "mimetype": "text/x-python",
   "name": "python",
   "nbconvert_exporter": "python",
   "pygments_lexer": "ipython2",
   "version": "2.7.6"
  }
 },
 "nbformat": 4,
 "nbformat_minor": 0
}
