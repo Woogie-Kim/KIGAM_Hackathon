{
 "cells": [
  {
   "cell_type": "code",
   "execution_count": 1,
   "metadata": {
    "collapsed": true,
    "ExecuteTime": {
     "end_time": "2023-06-23T02:30:50.491698Z",
     "start_time": "2023-06-23T02:30:50.112613100Z"
    }
   },
   "outputs": [],
   "source": [
    "import copy\n",
    "\n",
    "# Import libraries and modules\n",
    "import numpy as np\n",
    "import os\n",
    "import pandas as pd\n",
    "from datetime import datetime\n",
    "import matplotlib.pyplot as plt\n",
    "\n",
    "import tarfile\n",
    "import urllib\n",
    "\n",
    "import warnings\n",
    "warnings.filterwarnings('ignore')\n",
    "\n",
    "import pickle"
   ]
  },
  {
   "cell_type": "code",
   "execution_count": 2,
   "outputs": [
    {
     "name": "stdout",
     "output_type": "stream",
     "text": [
      "                 timestamp     P-PDG      P-TPT       T-TPT  P-MON-CKP  \\\n",
      "0      2018-09-05 20:44:36  420.2314  175.34060  114.890700   96.64524   \n",
      "1      2018-09-05 20:44:37  420.2314  175.34060  114.890700   96.64524   \n",
      "2      2018-09-05 20:44:38  420.2314  175.34060  114.890700   96.64524   \n",
      "3      2018-09-05 20:44:39  420.2314  175.34060  114.890700   96.64524   \n",
      "4      2018-09-05 20:44:40  420.2314  175.34060  114.890700   96.64524   \n",
      "...                    ...       ...        ...         ...        ...   \n",
      "172795 2018-09-07 20:44:31  429.8329   60.13675    8.354756   12.89203   \n",
      "172796 2018-09-07 20:44:32  429.8329   60.13789    8.354756   12.89203   \n",
      "172797 2018-09-07 20:44:33  429.8329   60.13904    8.354756   12.89203   \n",
      "172798 2018-09-07 20:44:34  429.8329   60.14018    8.354756   12.89203   \n",
      "172799 2018-09-07 20:44:35  429.8329   60.14132    8.354756   12.89203   \n",
      "\n",
      "        T-JUS-CKP  P-JUS-CKGL  T-JUS-CKGL  QGL  class  \n",
      "0        66.75450         NaN         NaN  NaN      0  \n",
      "1        66.75450         NaN         NaN  NaN      0  \n",
      "2        66.75450         NaN         NaN  NaN      0  \n",
      "3        66.75450         NaN         NaN  NaN      0  \n",
      "4        66.75450         NaN         NaN  NaN      0  \n",
      "...           ...         ...         ...  ...    ...  \n",
      "172795   31.27121         NaN         NaN  NaN      1  \n",
      "172796   31.27121         NaN         NaN  NaN      1  \n",
      "172797   31.27121         NaN         NaN  NaN      1  \n",
      "172798   31.27121         NaN         NaN  NaN      1  \n",
      "172799   31.27121         NaN         NaN  NaN      1  \n",
      "\n",
      "[172800 rows x 10 columns]\n"
     ]
    }
   ],
   "source": [
    "# Dataset directory\n",
    "dataset_master_dir = \"D:\\\\KIGAM_Hackathon\\\\Dataset\\\\3w_dataset-master\\\\data\\\\data.7z\\\\data\"\n",
    "os.chdir(dataset_master_dir)\n",
    "\n",
    "dir_list = os.listdir(dataset_master_dir) # ['0', '1', '2', '3', '4', '5', '6', '7', '8']\n",
    "\n",
    "def load_data(filename: str):\n",
    "    csv_path = filename\n",
    "    date_parser_ = lambda x: datetime.strptime(x, \"%Y-%m-%d %H:%M:%S.000000\")\n",
    "    return pd.read_csv(csv_path, sep=\",\", parse_dates=['timestamp'], date_parser=date_parser_)\n",
    "\n",
    "testdata = load_data(\"D:\\\\KIGAM_Hackathon\\\\Dataset\\\\3w_dataset-master\\\\data\\\\data.7z\\\\data\\\\1\\\\DRAWN_00001.csv\")\n",
    "print(testdata)"
   ],
   "metadata": {
    "collapsed": false,
    "ExecuteTime": {
     "end_time": "2023-06-23T02:33:48.403952200Z",
     "start_time": "2023-06-23T02:33:46.637558500Z"
    }
   }
  },
  {
   "cell_type": "code",
   "execution_count": null,
   "outputs": [],
   "source": [
    "event = 1\n",
    "\n",
    "# for variable in testdata.columns[1:9]:\n",
    "for variable in testdata.columns[1:2]:\n",
    "    plot = testdata.plot(x='timestamp', y=variable)\n",
    "    plot.set_ylabel(variable)\n",
    "    plot.set_title(variable + \", Event:1\")\n",
    "    # for c in testdata['class'].unique():\n",
    "    plot.fill_between(testdata['timestamp'].to_numpy(), min(testdata[variable]), max(testdata[variable]), where=(testdata['class']==0), color='green', alpha = 0.3)\n",
    "    plot.fill_between(testdata['timestamp'].to_numpy(), min(testdata[variable]), max(testdata[variable]), where=(testdata['class']==event), color='red', alpha = 0.3)\n",
    "    plot.fill_between(testdata['timestamp'].to_numpy(), min(testdata[variable]), max(testdata[variable]), where=(testdata['class']==event+100), color='yellow', alpha = 0.3)\n"
   ],
   "metadata": {
    "collapsed": false,
    "is_executing": true,
    "ExecuteTime": {
     "start_time": "2023-06-23T03:22:27.679817100Z"
    }
   }
  },
  {
   "cell_type": "code",
   "execution_count": null,
   "outputs": [],
   "source": [],
   "metadata": {
    "collapsed": false
   }
  }
 ],
 "metadata": {
  "kernelspec": {
   "display_name": "Python 3",
   "language": "python",
   "name": "python3"
  },
  "language_info": {
   "codemirror_mode": {
    "name": "ipython",
    "version": 2
   },
   "file_extension": ".py",
   "mimetype": "text/x-python",
   "name": "python",
   "nbconvert_exporter": "python",
   "pygments_lexer": "ipython2",
   "version": "2.7.6"
  }
 },
 "nbformat": 4,
 "nbformat_minor": 0
}
