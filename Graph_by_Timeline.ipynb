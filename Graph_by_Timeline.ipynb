{
 "cells": [
  {
   "cell_type": "code",
   "execution_count": 9,
   "metadata": {
    "collapsed": true,
    "ExecuteTime": {
     "end_time": "2023-06-23T10:56:12.038563500Z",
     "start_time": "2023-06-23T10:56:12.031561900Z"
    }
   },
   "outputs": [],
   "source": [
    "# Import libraries and modules\n",
    "import os\n",
    "import pandas as pd\n",
    "from datetime import datetime\n",
    "import matplotlib.pyplot as plt\n",
    "\n",
    "import warnings\n",
    "warnings.filterwarnings('ignore')\n",
    "\n",
    "import pickle"
   ]
  },
  {
   "cell_type": "code",
   "execution_count": 10,
   "outputs": [],
   "source": [
    "# Dataset directory\n",
    "dataset_master_dir = \"D:\\\\KIGAM_Hackathon\\\\dataset\\\\data\"\n",
    "figure_master_dir = \"D:\\\\KIGAM_Hackathon\\\\figure\"\n",
    "\n",
    "os.chdir(dataset_master_dir)\n",
    "event_list = os.listdir(dataset_master_dir) # ['0', '1', '2', '3', '4', '5', '6', '7', '8']\n",
    "\n",
    "def load_data(filename: str):\n",
    "    csv_path = filename\n",
    "    date_parser_ = lambda x: datetime.strptime(x, \"%Y-%m-%d %H:%M:%S.000000\")\n",
    "    return pd.read_csv(csv_path, sep=\",\", parse_dates=['timestamp'], date_parser=date_parser_)"
   ],
   "metadata": {
    "collapsed": false,
    "ExecuteTime": {
     "end_time": "2023-06-23T10:56:12.711713500Z",
     "start_time": "2023-06-23T10:56:12.705712600Z"
    }
   }
  },
  {
   "cell_type": "code",
   "execution_count": null,
   "outputs": [],
   "source": [
    "for event_str in event_list:\n",
    "    event = int(event_str) # int() value of undesirable events\n",
    "    os.chdir(event_str)\n",
    "    filelist = os.listdir()\n",
    "\n",
    "    for filename in filelist:\n",
    "        datafile = load_data(filename)\n",
    "        for variable in datafile.columns[1:9]:\n",
    "            plot = datafile.plot(x='timestamp', y=variable)\n",
    "            plot.set_ylabel(variable)\n",
    "            plot.set_title(filename+ \", \" + variable + \", Event:\" + event_str)\n",
    "            if event == 0:\n",
    "                plot.fill_between(datafile['timestamp'].to_numpy(), min(datafile[variable]), max(datafile[variable]), where=(datafile['class']==0), color='green', alpha = 0.3)\n",
    "            else:\n",
    "                plot.fill_between(datafile['timestamp'].to_numpy(), min(datafile[variable]), max(datafile[variable]), where=(datafile['class']==0), color='green', alpha = 0.3)\n",
    "                plot.fill_between(datafile['timestamp'].to_numpy(), min(datafile[variable]), max(datafile[variable]), where=(datafile['class']==event), color='red', alpha = 0.3)\n",
    "                plot.fill_between(datafile['timestamp'].to_numpy(), min(datafile[variable]), max(datafile[variable]), where=(datafile['class']==event+100), color='yellow', alpha = 0.3)\n",
    "\n",
    "            # # plot.savefig(Event num. + Filename + Variable.png)\n",
    "            fig = plot.get_figure()\n",
    "            figname = variable + \"__Event_\" + event_str + \"__\" + filename[:-4] + '.png'\n",
    "\n",
    "            fig.savefig(os.path.join(figure_master_dir, event_str, figname))\n"
   ],
   "metadata": {
    "collapsed": false,
    "is_executing": true,
    "ExecuteTime": {
     "start_time": "2023-06-23T10:56:13.636441100Z"
    }
   }
  },
  {
   "cell_type": "code",
   "execution_count": 8,
   "outputs": [
    {
     "name": "stdout",
     "output_type": "stream",
     "text": [
      "123456\n"
     ]
    }
   ],
   "source": [
    "test = \"123456789\"\n",
    "print(test[:-3])"
   ],
   "metadata": {
    "collapsed": false,
    "ExecuteTime": {
     "end_time": "2023-06-23T10:55:21.074369800Z",
     "start_time": "2023-06-23T10:55:21.054365500Z"
    }
   }
  },
  {
   "cell_type": "code",
   "execution_count": null,
   "outputs": [],
   "source": [],
   "metadata": {
    "collapsed": false
   }
  }
 ],
 "metadata": {
  "kernelspec": {
   "display_name": "Python 3",
   "language": "python",
   "name": "python3"
  },
  "language_info": {
   "codemirror_mode": {
    "name": "ipython",
    "version": 2
   },
   "file_extension": ".py",
   "mimetype": "text/x-python",
   "name": "python",
   "nbconvert_exporter": "python",
   "pygments_lexer": "ipython2",
   "version": "2.7.6"
  }
 },
 "nbformat": 4,
 "nbformat_minor": 0
}
