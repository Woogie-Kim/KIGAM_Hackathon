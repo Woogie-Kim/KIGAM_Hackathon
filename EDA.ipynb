{
 "cells": [
  {
   "cell_type": "code",
   "execution_count": 1,
   "metadata": {
    "collapsed": true,
    "ExecuteTime": {
     "end_time": "2023-06-23T10:11:29.086757Z",
     "start_time": "2023-06-23T10:11:29.038746200Z"
    }
   },
   "outputs": [],
   "source": [
    "import os\n",
    "import pandas as pd\n",
    "import pickle\n",
    "from datetime import datetime\n",
    "from tqdm.notebook import tqdm\n",
    "from functools import lru_cache\n",
    "import seaborn as sns"
   ]
  },
  {
   "cell_type": "code",
   "execution_count": 2,
   "outputs": [],
   "source": [
    "# Dataset directory\n",
    "os.chdir('../Dataset/')\n",
    "abs_dir = os.getcwd()\n",
    "dataset_dir = abs_dir + '\\\\data'\n",
    "dir_list = os.listdir(dataset_dir) # ['0', '1', '2', '3', '4', '5', '6', '7', '8']\n",
    "dir_dict = {}\n",
    "for l in dir_list: dir_dict[l] = os.listdir(f'{dataset_dir}/{l}')\n",
    "labels=['class', 'P-PDG', 'P-TPT', 'T-TPT', 'P-MON-CKP', 'T-JUS-CKP', 'P-JUS-CKGL', 'T-JUS-CKGL', 'QGL','source','filename']"
   ],
   "metadata": {
    "collapsed": false,
    "ExecuteTime": {
     "end_time": "2023-06-23T09:45:23.970879800Z",
     "start_time": "2023-06-23T09:45:23.844852Z"
    }
   }
  },
  {
   "cell_type": "code",
   "execution_count": 3,
   "outputs": [],
   "source": [
    "@lru_cache\n",
    "def source_filter(s:str):\n",
    "    if s.startswith('WELL'): return 'WELL'\n",
    "    elif s.startswith('SIM'): return 'SIM'\n",
    "    elif s.startswith('DRAWN'): return 'DRAWN'"
   ],
   "metadata": {
    "collapsed": false,
    "ExecuteTime": {
     "end_time": "2023-06-23T09:37:37.739820300Z",
     "start_time": "2023-06-23T09:37:37.735819300Z"
    }
   }
  },
  {
   "cell_type": "code",
   "execution_count": 5,
   "outputs": [
    {
     "data": {
      "text/plain": "Class 0:   0%|          | 0/597 [00:00<?, ?it/s]",
      "application/vnd.jupyter.widget-view+json": {
       "version_major": 2,
       "version_minor": 0,
       "model_id": "f7a83e3c32404c29b6da90b314e3be27"
      }
     },
     "metadata": {},
     "output_type": "display_data"
    },
    {
     "data": {
      "text/plain": "Class 1:   0%|          | 0/129 [00:00<?, ?it/s]",
      "application/vnd.jupyter.widget-view+json": {
       "version_major": 2,
       "version_minor": 0,
       "model_id": "0cd7f05871484cbd94748b1d2007a55e"
      }
     },
     "metadata": {},
     "output_type": "display_data"
    },
    {
     "data": {
      "text/plain": "Class 2:   0%|          | 0/38 [00:00<?, ?it/s]",
      "application/vnd.jupyter.widget-view+json": {
       "version_major": 2,
       "version_minor": 0,
       "model_id": "8dc0852ee5ea4cfc9cc2ba60c9d58d36"
      }
     },
     "metadata": {},
     "output_type": "display_data"
    },
    {
     "data": {
      "text/plain": "Class 3:   0%|          | 0/106 [00:00<?, ?it/s]",
      "application/vnd.jupyter.widget-view+json": {
       "version_major": 2,
       "version_minor": 0,
       "model_id": "f17353cb680449b1af89998c27d56cb9"
      }
     },
     "metadata": {},
     "output_type": "display_data"
    },
    {
     "data": {
      "text/plain": "Class 4:   0%|          | 0/344 [00:00<?, ?it/s]",
      "application/vnd.jupyter.widget-view+json": {
       "version_major": 2,
       "version_minor": 0,
       "model_id": "30ad9302795f4cf0b2c785370cbd7b66"
      }
     },
     "metadata": {},
     "output_type": "display_data"
    },
    {
     "data": {
      "text/plain": "Class 5:   0%|          | 0/451 [00:00<?, ?it/s]",
      "application/vnd.jupyter.widget-view+json": {
       "version_major": 2,
       "version_minor": 0,
       "model_id": "b6dc7070a06c4077ae2206cd7f93c004"
      }
     },
     "metadata": {},
     "output_type": "display_data"
    },
    {
     "data": {
      "text/plain": "Class 6:   0%|          | 0/221 [00:00<?, ?it/s]",
      "application/vnd.jupyter.widget-view+json": {
       "version_major": 2,
       "version_minor": 0,
       "model_id": "48a3d3dee9ca475f8bfbae9a3097e5b4"
      }
     },
     "metadata": {},
     "output_type": "display_data"
    },
    {
     "data": {
      "text/plain": "Class 7:   0%|          | 0/14 [00:00<?, ?it/s]",
      "application/vnd.jupyter.widget-view+json": {
       "version_major": 2,
       "version_minor": 0,
       "model_id": "ae868d53677549a982024c08efb26f07"
      }
     },
     "metadata": {},
     "output_type": "display_data"
    },
    {
     "data": {
      "text/plain": "Class 8:   0%|          | 0/84 [00:00<?, ?it/s]",
      "application/vnd.jupyter.widget-view+json": {
       "version_major": 2,
       "version_minor": 0,
       "model_id": "96ce91ed0c9e4f2aaf98b328ffbae47a"
      }
     },
     "metadata": {},
     "output_type": "display_data"
    },
    {
     "name": "stdout",
     "output_type": "stream",
     "text": [
      "\n",
      "Now caching all of the dataset...\n",
      "\n",
      "Complete\n"
     ]
    }
   ],
   "source": [
    "lst_all = []\n",
    "for key in dir_dict.keys():\n",
    "    lst = [pd.DataFrame(columns=labels)]\n",
    "    for l in tqdm(dir_dict[key],desc='Class '+key):\n",
    "        df_ = pd.read_csv(f\"{dataset_dir}/{key}/{l}\", engine=\"pyarrow\")\n",
    "        df_['source'] = source_filter(l)\n",
    "        df_['filename'] = l\n",
    "        lst.append(df_)\n",
    "    df = pd.concat(lst, axis=0)\n",
    "    lst_all.append(df)\n",
    "    # cache\n",
    "    with open(os.path.join('./cached',f'df_{key}.pkl'), 'wb') as f:\n",
    "        pickle.dump(df, f)\n",
    "\n",
    "print('\\nNow caching all of the dataset...\\n')\n",
    "df_all = pd.concat(lst_all, axis=0)\n",
    "with open(os.path.join('./cached',f'df_all.pkl'), 'wb') as f:\n",
    "    pickle.dump(df_all, f)\n",
    "    print('Complete')"
   ],
   "metadata": {
    "collapsed": false,
    "ExecuteTime": {
     "end_time": "2023-06-23T09:18:26.030461400Z",
     "start_time": "2023-06-23T09:14:41.783469100Z"
    }
   }
  },
  {
   "cell_type": "code",
   "execution_count": 4,
   "outputs": [],
   "source": [
    "with open(os.path.join('./cached',f'df_all.pkl'), 'rb') as f:\n",
    "    df = pickle.load(f)"
   ],
   "metadata": {
    "collapsed": false,
    "ExecuteTime": {
     "end_time": "2023-06-23T09:31:10.717704300Z",
     "start_time": "2023-06-23T09:30:55.955410Z"
    }
   }
  },
  {
   "cell_type": "code",
   "execution_count": 5,
   "outputs": [
    {
     "data": {
      "text/plain": "              P-PDG         P-TPT         T-TPT     P-MON-CKP     T-JUS-CKP  \\\ncount  5.090731e+07  5.090703e+07  4.510224e+07  4.979159e+07  4.921043e+07   \nmean  -4.914373e+39  1.575977e+07  1.042409e+02  3.584212e+06  7.559043e+01   \nstd    7.599592e+40  5.972020e+07  2.759764e+01  3.353031e+06  2.147815e+01   \nmin   -1.180116e+42  0.000000e+00  0.000000e+00 -8.317492e+03 -2.020000e+00   \n25%    1.156145e+07  1.094888e+07  9.695686e+01  1.186354e+06  6.702149e+01   \n50%    2.189268e+07  1.452192e+07  1.167489e+02  1.956448e+06  7.735565e+01   \n75%    2.606205e+07  1.755936e+07  1.217031e+02  5.111470e+06  8.478074e+01   \nmax    3.101295e+09  2.941990e+09  1.277401e+02  1.303717e+07  1.730961e+02   \n\n         P-JUS-CKGL           QGL  \ncount  1.009858e+07  1.078235e+07  \nmean   1.917771e+07  1.681906e-01  \nstd    1.593000e+08  4.574544e-01  \nmin   -4.976717e+05  0.000000e+00  \n25%    2.313529e+06  0.000000e+00  \n50%    2.332504e+06  0.000000e+00  \n75%    3.462213e+06  0.000000e+00  \nmax    1.831428e+09  4.146513e+00  ",
      "text/html": "<div>\n<style scoped>\n    .dataframe tbody tr th:only-of-type {\n        vertical-align: middle;\n    }\n\n    .dataframe tbody tr th {\n        vertical-align: top;\n    }\n\n    .dataframe thead th {\n        text-align: right;\n    }\n</style>\n<table border=\"1\" class=\"dataframe\">\n  <thead>\n    <tr style=\"text-align: right;\">\n      <th></th>\n      <th>P-PDG</th>\n      <th>P-TPT</th>\n      <th>T-TPT</th>\n      <th>P-MON-CKP</th>\n      <th>T-JUS-CKP</th>\n      <th>P-JUS-CKGL</th>\n      <th>QGL</th>\n    </tr>\n  </thead>\n  <tbody>\n    <tr>\n      <th>count</th>\n      <td>5.090731e+07</td>\n      <td>5.090703e+07</td>\n      <td>4.510224e+07</td>\n      <td>4.979159e+07</td>\n      <td>4.921043e+07</td>\n      <td>1.009858e+07</td>\n      <td>1.078235e+07</td>\n    </tr>\n    <tr>\n      <th>mean</th>\n      <td>-4.914373e+39</td>\n      <td>1.575977e+07</td>\n      <td>1.042409e+02</td>\n      <td>3.584212e+06</td>\n      <td>7.559043e+01</td>\n      <td>1.917771e+07</td>\n      <td>1.681906e-01</td>\n    </tr>\n    <tr>\n      <th>std</th>\n      <td>7.599592e+40</td>\n      <td>5.972020e+07</td>\n      <td>2.759764e+01</td>\n      <td>3.353031e+06</td>\n      <td>2.147815e+01</td>\n      <td>1.593000e+08</td>\n      <td>4.574544e-01</td>\n    </tr>\n    <tr>\n      <th>min</th>\n      <td>-1.180116e+42</td>\n      <td>0.000000e+00</td>\n      <td>0.000000e+00</td>\n      <td>-8.317492e+03</td>\n      <td>-2.020000e+00</td>\n      <td>-4.976717e+05</td>\n      <td>0.000000e+00</td>\n    </tr>\n    <tr>\n      <th>25%</th>\n      <td>1.156145e+07</td>\n      <td>1.094888e+07</td>\n      <td>9.695686e+01</td>\n      <td>1.186354e+06</td>\n      <td>6.702149e+01</td>\n      <td>2.313529e+06</td>\n      <td>0.000000e+00</td>\n    </tr>\n    <tr>\n      <th>50%</th>\n      <td>2.189268e+07</td>\n      <td>1.452192e+07</td>\n      <td>1.167489e+02</td>\n      <td>1.956448e+06</td>\n      <td>7.735565e+01</td>\n      <td>2.332504e+06</td>\n      <td>0.000000e+00</td>\n    </tr>\n    <tr>\n      <th>75%</th>\n      <td>2.606205e+07</td>\n      <td>1.755936e+07</td>\n      <td>1.217031e+02</td>\n      <td>5.111470e+06</td>\n      <td>8.478074e+01</td>\n      <td>3.462213e+06</td>\n      <td>0.000000e+00</td>\n    </tr>\n    <tr>\n      <th>max</th>\n      <td>3.101295e+09</td>\n      <td>2.941990e+09</td>\n      <td>1.277401e+02</td>\n      <td>1.303717e+07</td>\n      <td>1.730961e+02</td>\n      <td>1.831428e+09</td>\n      <td>4.146513e+00</td>\n    </tr>\n  </tbody>\n</table>\n</div>"
     },
     "execution_count": 5,
     "metadata": {},
     "output_type": "execute_result"
    }
   ],
   "source": [
    "df_all.describe()"
   ],
   "metadata": {
    "collapsed": false,
    "ExecuteTime": {
     "end_time": "2023-06-23T09:24:42.399598400Z",
     "start_time": "2023-06-23T09:24:36.506282100Z"
    }
   }
  },
  {
   "cell_type": "code",
   "execution_count": 6,
   "outputs": [
    {
     "name": "stdout",
     "output_type": "stream",
     "text": [
      "<class 'pandas.core.frame.DataFrame'>\n",
      "Int64Index: 50913215 entries, 0 to 24203\n",
      "Data columns (total 12 columns):\n",
      " #   Column      Dtype         \n",
      "---  ------      -----         \n",
      " 0   class       object        \n",
      " 1   P-PDG       float64       \n",
      " 2   P-TPT       float64       \n",
      " 3   T-TPT       float64       \n",
      " 4   P-MON-CKP   float64       \n",
      " 5   T-JUS-CKP   float64       \n",
      " 6   P-JUS-CKGL  float64       \n",
      " 7   T-JUS-CKGL  object        \n",
      " 8   QGL         float64       \n",
      " 9   source      object        \n",
      " 10  filename    object        \n",
      " 11  timestamp   datetime64[ns]\n",
      "dtypes: datetime64[ns](1), float64(7), object(4)\n",
      "memory usage: 4.9+ GB\n"
     ]
    }
   ],
   "source": [
    "df_all.info()"
   ],
   "metadata": {
    "collapsed": false,
    "ExecuteTime": {
     "end_time": "2023-06-23T09:24:42.415602500Z",
     "start_time": "2023-06-23T09:24:42.402598500Z"
    }
   }
  },
  {
   "cell_type": "code",
   "execution_count": 7,
   "outputs": [
    {
     "data": {
      "text/plain": "class         50908085\nP-PDG         50907310\nP-TPT         50907031\nT-TPT         45102239\nP-MON-CKP     49791587\nT-JUS-CKP     49210426\nP-JUS-CKGL    10098579\nT-JUS-CKGL           0\nQGL           10782351\nsource        50913215\nfilename      50913215\ntimestamp     50913215\ndtype: int64"
     },
     "execution_count": 7,
     "metadata": {},
     "output_type": "execute_result"
    }
   ],
   "source": [
    "df_all.count()"
   ],
   "metadata": {
    "collapsed": false,
    "ExecuteTime": {
     "end_time": "2023-06-23T09:24:56.880828500Z",
     "start_time": "2023-06-23T09:24:44.547076300Z"
    }
   }
  },
  {
   "cell_type": "markdown",
   "source": [
    "T-JUS_CKGL column is the group of None values."
   ],
   "metadata": {
    "collapsed": false
   }
  },
  {
   "cell_type": "code",
   "execution_count": 5,
   "outputs": [
    {
     "data": {
      "text/plain": "class         50908085\nP-PDG         50902180\nP-TPT         50901901\nT-TPT         45097109\nP-MON-CKP     49786974\nT-JUS-CKP     49206552\nP-JUS-CKGL    10094515\nQGL           10778247\nsource        50908085\nfilename      50908085\ntimestamp     50908085\ndtype: int64"
     },
     "execution_count": 5,
     "metadata": {},
     "output_type": "execute_result"
    }
   ],
   "source": [
    "df_new = df_all.drop(columns=['T-JUS-CKGL'], axis=1)\n",
    "df_new = df_new.dropna(subset=['class'], how='any', axis=0)\n",
    "df_new['class'] = df_new['class'].astype('int')\n",
    "df_new.count()"
   ],
   "metadata": {
    "collapsed": false,
    "ExecuteTime": {
     "end_time": "2023-06-23T09:31:29.414876400Z",
     "start_time": "2023-06-23T09:31:12.586120900Z"
    }
   }
  },
  {
   "cell_type": "code",
   "execution_count": 6,
   "outputs": [
    {
     "name": "stdout",
     "output_type": "stream",
     "text": [
      "<class 'pandas.core.frame.DataFrame'>\n",
      "Int64Index: 50908085 entries, 0 to 24203\n",
      "Data columns (total 15 columns):\n",
      " #   Column  Dtype  \n",
      "---  ------  -----  \n",
      " 0   0       float16\n",
      " 1   1       float16\n",
      " 2   2       float16\n",
      " 3   3       float16\n",
      " 4   4       float16\n",
      " 5   5       float16\n",
      " 6   6       float16\n",
      " 7   7       float16\n",
      " 8   8       float16\n",
      " 9   101     float16\n",
      " 10  102     float16\n",
      " 11  105     float16\n",
      " 12  106     float16\n",
      " 13  107     float16\n",
      " 14  108     float16\n",
      "dtypes: float16(15)\n",
      "memory usage: 1.8 GB\n"
     ]
    }
   ],
   "source": [
    "one_hot_classes = pd.get_dummies(df_new['class'])\n",
    "one_hot_sources = pd.get_dummies(df_new['source'])\n",
    "df_cut = df_new.drop(columns=['class', 'filename'], axis=1)\n",
    "df_cut = pd.concat([df_cut, one_hot_classes, one_hot_sources], axis=0)"
   ],
   "metadata": {
    "collapsed": false,
    "ExecuteTime": {
     "end_time": "2023-06-23T09:31:46.388174500Z",
     "start_time": "2023-06-23T09:31:42.400284300Z"
    }
   }
  },
  {
   "cell_type": "code",
   "execution_count": 7,
   "outputs": [],
   "source": [
    "df_cut = pd.concat([df_cut, one_hot_classes, one_hot_sources], axis=0)"
   ],
   "metadata": {
    "collapsed": false,
    "ExecuteTime": {
     "end_time": "2023-06-23T09:32:21.896618200Z",
     "start_time": "2023-06-23T09:32:09.776913900Z"
    }
   }
  },
  {
   "cell_type": "code",
   "execution_count": 3,
   "outputs": [],
   "source": [
    "df_all['class']"
   ],
   "metadata": {
    "collapsed": false,
    "ExecuteTime": {
     "end_time": "2023-06-23T09:45:57.820544400Z",
     "start_time": "2023-06-23T09:45:30.749392200Z"
    }
   }
  }
 ],
 "metadata": {
  "kernelspec": {
   "display_name": "Python 3",
   "language": "python",
   "name": "python3"
  },
  "language_info": {
   "codemirror_mode": {
    "name": "ipython",
    "version": 2
   },
   "file_extension": ".py",
   "mimetype": "text/x-python",
   "name": "python",
   "nbconvert_exporter": "python",
   "pygments_lexer": "ipython2",
   "version": "2.7.6"
  }
 },
 "nbformat": 4,
 "nbformat_minor": 0
}
