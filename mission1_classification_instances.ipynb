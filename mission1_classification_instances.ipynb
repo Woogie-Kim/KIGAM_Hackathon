{
 "cells": [
  {
   "cell_type": "markdown",
   "metadata": {},
   "source": [
    "# Classification for identifying abnormal instances"
   ]
  },
  {
   "cell_type": "markdown",
   "source": [
    "***\n",
    "**Contest:** 2023년 지질자원 데이터 활용 및 인공지능 경진대회 (link [here](http://www.geodata-con.kr/2023/overview.php)).\n",
    "**Original:** <i><b>A Realistic and Public Dataset with Rare Undesirable Real Events in Oil Wells</i></b> published in the <i><b>Journal of Petroleum Science and Engineering</i></b> (link [here](https://doi.org/10.1016/j.petrol.2019.106223)).\n",
    "**Editor:** Jongwook Kim, Dogyun Kim\n",
    "**Advisor:** Jonggeun Choe\n",
    "**Last updated:** 07-05-2023\n",
    "***"
   ],
   "metadata": {
    "collapsed": false
   }
  },
  {
   "cell_type": "markdown",
   "metadata": {},
   "source": [
    "# 1. Strategy"
   ]
  },
  {
   "cell_type": "markdown",
   "metadata": {},
   "source": [
    "#### 1. Load datasets\n",
    "- <b>get filenames</b>: First of all, we need to get all the filenames we used.\n",
    "- <b>load datasets</b>: Datasets will be loaded from csv files using pandas package. And merge all the datasets to unified dataset.\n",
    "#### 2. Pre-processing - column scale\n",
    "- <b>Response variables selection</b> We need to check which variables could be helpful in our analysis. Response variables had small size & variance will be dropped.\n",
    "- <b>Logical treshold</b> will be applied at the dataset we used. It means non-logical values of the pressure (minus values) will be discarded and hard-outlier will also be eliminated. The thresholds are determined by conducting EDA.\n",
    "- <b></b>"
   ]
  },
  {
   "cell_type": "markdown",
   "metadata": {},
   "source": [
    "# 2. Imports and Configurations"
   ]
  },
  {
   "cell_type": "code",
   "execution_count": 1,
   "metadata": {
    "variables": {
     "import datetime;import locale;locale.setlocale(locale.LC_ALL, 'portuguese_brazil');datetime.date.today().strftime('%d de %B de %Y')": "05 de agosto de 2018"
    }
   },
   "outputs": [
    {
     "name": "stderr",
     "output_type": "stream",
     "text": [
      "C:\\Users\\jongwook\\miniconda3\\envs\\pytorch_gpu\\lib\\site-packages\\cupy\\_environment.py:213: UserWarning: CUDA path could not be detected. Set CUDA_PATH environment variable if CuPy fails to load.\n",
      "  warnings.warn(\n"
     ]
    }
   ],
   "source": [
    "%load_ext autoreload\n",
    "%autoreload 2\n",
    "import pandas as pd\n",
    "import numpy as np\n",
    "import seaborn as sns\n",
    "import logging\n",
    "import warnings\n",
    "import pickle\n",
    "\n",
    "import sys\n",
    "sys.path.append('stac')\n",
    "from matplotlib import pyplot as plt\n",
    "from pathlib import Path\n",
    "from tsfresh.feature_extraction import extract_features\n",
    "from tsfresh.utilities.dataframe_functions import impute\n",
    "from tsfresh.feature_extraction import MinimalFCParameters\n",
    "from sklearn.tree import DecisionTreeClassifier\n",
    "from sklearn.ensemble import AdaBoostClassifier\n",
    "from sklearn.ensemble import RandomForestClassifier\n",
    "from sklearn.ensemble import GradientBoostingClassifier\n",
    "from sklearn import preprocessing\n",
    "from argparse import ArgumentParser\n",
    "from module import *\n",
    "from tqdm import tqdm_notebook as tqdm\n",
    "logging.getLogger('tsfresh').setLevel(logging.ERROR)\n",
    "warnings.simplefilter(action='ignore')\n",
    "%matplotlib inline\n",
    "%config InlineBackend.figure_format = 'png'"
   ]
  },
  {
   "cell_type": "markdown",
   "source": [
    "#### <b>분석을 위한 초기변수 설정"
   ],
   "metadata": {
    "collapsed": false
   }
  },
  {
   "cell_type": "code",
   "execution_count": 2,
   "metadata": {},
   "outputs": [],
   "source": [
    "data_path = Path('data')\n",
    "random_state = 1\n",
    "n_jobs = None\n",
    "clfs = {'Decision Tree':     DecisionTreeClassifier(random_state=random_state),\n",
    "        'AdaBoost':          AdaBoostClassifier(random_state=random_state),\n",
    "        'Random Forest':     RandomForestClassifier(n_jobs=n_jobs, random_state=random_state),\n",
    "        'Gradient Boosting': GradientBoostingClassifier(random_state=random_state)\n",
    "        }\n",
    "events_names = {0: 'Normal',\n",
    "                1: 'Abrupt Increase of BSW',\n",
    "                2: 'Spurious Closure of DHSV',\n",
    "                3: 'Severe Slugging',\n",
    "                4: 'Flow Instability',\n",
    "                5: 'Rapid Productivity Loss',\n",
    "                6: 'Quick Restriction in PCK',\n",
    "                7: 'Scaling in PCK',\n",
    "                8: 'Hydrate in Production Line'\n",
    "               }\n",
    "vars = ['P-PDG',\n",
    "        'P-TPT',\n",
    "        'T-TPT',\n",
    "        'P-MON-CKP',\n",
    "        'T-JUS-CKP',\n",
    "        'P-JUS-CKGL',\n",
    "        'T-JUS-CKGL',\n",
    "        'QGL']\n",
    "\n",
    "#parsing the parameters\n",
    "args = ArgumentParser()\n",
    "args.columns = ['timestamp'] + vars + ['class']\n",
    "args.normal_class_code = 0\n",
    "args.undesirable_event_code = 1      # Undesirable event of interest\n",
    "abnormal_classes_codes = [0, 1, 2, 3, 4, 5, 6, 7, 8]\n",
    "downsample_rate = 60            # Adjusts frequency of sampling to the dynamics\n",
    "                                # of the undesirable event of interest\n",
    "args.sample_size_default = 60        # In observations (after downsample)\n",
    "args.sample_size_normal_period = 5   # In observations (after downsample)\n",
    "args.max_samples_per_period = 15     # Limitation for safety\n",
    "max_nan_percent = 0.15           # For selection of useful variables\n",
    "std_vars_min = 0.01             # For selection of useful variables\n",
    "disable_progressbar = True      # For less output"
   ]
  },
  {
   "cell_type": "markdown",
   "source": [
    "#### Get filenames & check num. of instances"
   ],
   "metadata": {
    "collapsed": false
   }
  },
  {
   "cell_type": "code",
   "execution_count": 3,
   "outputs": [
    {
     "name": "stdout",
     "output_type": "stream",
     "text": [
      "number of total instances = 1984\n",
      "number of real instances = 1025\n",
      "number of simulated instances = 939\n",
      "number of drawn instances = 20\n"
     ]
    }
   ],
   "source": [
    "# Gets all real instances but maintains only those with any type of undesirable event\n",
    "#real_instances = get_instances_with_undesirable_event(data_path, args.undesirable_event_code,real=True,simulated=False, drawn=False)\n",
    "real_instances = pd.DataFrame(class_and_file_generator(data_path,real=True,simulated=False,drawn=False),columns=['class_code', 'instance_path'])\n",
    "real_instances = real_instances.loc[real_instances.iloc[:,0].isin(abnormal_classes_codes)].reset_index(drop=True)\n",
    "sim_instances = pd.DataFrame(class_and_file_generator(data_path,real=False,simulated=True,drawn=False),columns=['class_code', 'instance_path'])\n",
    "sim_instances = sim_instances.loc[sim_instances.iloc[:,0].isin(abnormal_classes_codes)].reset_index(drop=True)\n",
    "drawn_instances = pd.DataFrame(class_and_file_generator(data_path,real=False,simulated=False,drawn=True),columns=['class_code', 'instance_path'])\n",
    "drawn_instances = drawn_instances.loc[drawn_instances.iloc[:,0].isin(abnormal_classes_codes)].reset_index(drop=True)\n",
    "instances = pd.concat([real_instances, sim_instances, drawn_instances]).reset_index(drop=True)\n",
    "print(f\"number of total instances = {len(real_instances)+ len(sim_instances) + len(drawn_instances)}\")\n",
    "print(f\"number of real instances = {len(real_instances)}\")\n",
    "print(f\"number of simulated instances = {len(sim_instances)}\")\n",
    "print(f\"number of drawn instances = {len(drawn_instances)}\")"
   ],
   "metadata": {
    "collapsed": false
   }
  },
  {
   "cell_type": "markdown",
   "source": [
    "#### load datasets & merge"
   ],
   "metadata": {
    "collapsed": false
   }
  },
  {
   "cell_type": "code",
   "execution_count": 4,
   "metadata": {},
   "outputs": [],
   "source": [
    "# Loads all real, simulated and drawn instances and applies downsample\n",
    "instance_id = 0\n",
    "df_real_instances, instance_id  = load_and_downsample_instances(real_instances, downsample_rate, 'real', instance_id,args)\n",
    "df_simul_instances, instance_id = load_and_downsample_instances(sim_instances,downsample_rate,'simulated', instance_id,args)\n",
    "df_drawn_instances, instance_id = load_and_downsample_instances(drawn_instances,downsample_rate,'drawn',instance_id, args)\n",
    "df_instances = pd.concat([df_real_instances, df_simul_instances, df_drawn_instances])"
   ]
  },
  {
   "cell_type": "markdown",
   "source": [
    "## Preprocess step"
   ],
   "metadata": {
    "collapsed": false
   }
  },
  {
   "cell_type": "markdown",
   "source": [
    "#### 1. Response variables selection\n",
    "앞서 설정한 허용가능한 nan 비율을 넘어서는 경우, 해당 변수를 drop"
   ],
   "metadata": {
    "collapsed": false
   }
  },
  {
   "cell_type": "code",
   "execution_count": 68,
   "outputs": [
    {
     "name": "stdout",
     "output_type": "stream",
     "text": [
      "['P-PDG', 'P-TPT', 'T-TPT', 'P-MON-CKP', 'T-JUS-CKP']\n"
     ]
    }
   ],
   "source": [
    "idxs = (df_instances['source']=='real') & (df_instances['instance_id'])\n",
    "good_vars = np.isnan(df_instances.loc[idxs][vars]).mean(0) <= max_nan_percent\n",
    "good_vars = list(good_vars.index[good_vars])\n",
    "bad_vars = list(set(vars)-set(good_vars))\n",
    "df_instances_good_vars = df_instances.drop(columns=bad_vars, errors='ignore')\n",
    "print(good_vars)"
   ],
   "metadata": {
    "collapsed": false
   }
  },
  {
   "cell_type": "markdown",
   "source": [
    "#### 2. Logical threshold\n",
    "EDA 과정에서 도출된 logical threshold를 이용하여 물리적인 범위를 벗어난 값을 지니는 instance를 제거\n",
    "<i><b>Q. 일부만 이상치인 instance도 있을 건데 왜 전부 없애죠?</i></b>\n",
    " A. Logical threshold로 데이터를 가공하는 경우, 33개의 instance 내 데이터가 완전히 drop되고, 4개의 instance 내의 데이터는 일부만 drop되게 됨.\n",
    " 문제는, 해당 4개의 instance의 자료가 비정상적이었음. 따라서, 해당 instance도 완전히 제외"
   ],
   "metadata": {
    "collapsed": false
   }
  },
  {
   "cell_type": "code",
   "execution_count": 69,
   "outputs": [],
   "source": [
    "df_instances_logical = logical_threshold(df_instances_good_vars)"
   ],
   "metadata": {
    "collapsed": false
   }
  },
  {
   "cell_type": "code",
   "execution_count": 71,
   "outputs": [],
   "source": [
    "# Totally eliminated\n",
    "elim_set_total = set(df_instances_good_vars['instance_id']) - set(df_instances_logical['instance_id'])\n",
    "# Partially eliminated\n",
    "loss = {}\n",
    "for id in sorted(list(set(df_instances_good_vars['instance_id']).intersection(set(df_instances_logical['instance_id'])))):\n",
    "    before =len(df_instances_good_vars[df_instances_good_vars['instance_id']==id])\n",
    "    after =len(df_instances_logical[df_instances_logical['instance_id']==id])\n",
    "    if before != after:\n",
    "        loss[id] = before - after\n",
    "elim_set_partial = set(loss.keys())\n",
    "for var in list(elim_set_partial):\n",
    "    df_instances_logical = df_instances_logical[~(df_instances_logical['instance_id'] == var)]\n",
    "elim_set = (elim_set_total | elim_set_partial)\n",
    "elim_id = sorted(list(elim_set))\n",
    "elim_instances = instances.loc[elim_id]\n",
    "# print(elim_instances)"
   ],
   "metadata": {
    "collapsed": false
   }
  },
  {
   "cell_type": "markdown",
   "source": [
    "#### 2.a. Logical threshold - not eliminate\n",
    "EDA 과정에서 도출된 logical threshold를 이용하여 물리적인 범위를 벗어난 값을 지니는 instance를 bound 값으로 변환"
   ],
   "metadata": {
    "collapsed": false
   }
  },
  {
   "cell_type": "code",
   "execution_count": 70,
   "outputs": [],
   "source": [
    "df_instances_logical = logical_threshold(df_instances_good_vars, eliminate=False)"
   ],
   "metadata": {
    "collapsed": false
   }
  },
  {
   "cell_type": "code",
   "execution_count": 72,
   "outputs": [
    {
     "data": {
      "text/plain": "1984"
     },
     "execution_count": 72,
     "metadata": {},
     "output_type": "execute_result"
    }
   ],
   "source": [
    "len(set(df_instances_logical['instance_id']))"
   ],
   "metadata": {
    "collapsed": false
   }
  },
  {
   "cell_type": "markdown",
   "source": [
    "#### 3. Data cleaning at instance level (Missing variables & Frozen variables)\n",
    "개별 instance마다 어떠한 이유로 하나의 값만 가지는 frozen variable을 탐지하고, 처리 => variable drop & 남아있는 variables들에서 frozen인 경우 instance 제거\n",
    "개별 instance마다 장비 고장, 통신 등의 문제로 존재하는 missing observation을 탐지하고, 처리 => linear interpoliation"
   ],
   "metadata": {
    "collapsed": false
   }
  },
  {
   "cell_type": "code",
   "execution_count": 73,
   "outputs": [],
   "source": [
    "logical_set = (set(real_instances.index) - elim_set)\n",
    "#clean_set = (set(instances.index) - elim_set)\n",
    "logical_id = sorted(list(logical_set))\n",
    "logical_instances = instances.loc[logical_id]"
   ],
   "metadata": {
    "collapsed": false
   }
  },
  {
   "cell_type": "code",
   "execution_count": 114,
   "outputs": [
    {
     "data": {
      "text/plain": "1025"
     },
     "execution_count": 114,
     "metadata": {},
     "output_type": "execute_result"
    }
   ],
   "source": [
    "len(set(df_instances_logical[df_instances_logical['source']=='real']['instance_id']))"
   ],
   "metadata": {
    "collapsed": false
   }
  },
  {
   "cell_type": "code",
   "execution_count": 97,
   "outputs": [
    {
     "name": "stdout",
     "output_type": "stream",
     "text": [
      "['P-TPT', 'T-TPT', 'P-MON-CKP']\n"
     ]
    }
   ],
   "source": [
    "from sklearn.preprocessing import MinMaxScaler\n",
    "max_frozen_percent = 0.1\n",
    "std_vars_min = 0.0001\n",
    "frozen = np.zeros(5)\n",
    "for id in logical_id:\n",
    "    scaler = MinMaxScaler()\n",
    "    idxs = (df_instances_logical['instance_id']==id)\n",
    "    scaler.fit(df_instances_logical[idxs][good_vars])\n",
    "    df_scaled = scaler.fit_transform(df_instances_logical[idxs][good_vars])\n",
    "    df_scaled = pd.DataFrame(df_scaled, columns=good_vars)\n",
    "    frozen += np.nanstd(df_scaled[good_vars], 0) < std_vars_min\n",
    "clean_vars= np.array(good_vars)\n",
    "clean_vars = list(clean_vars[(frozen / len(logical_id) <= max_frozen_percent)])\n",
    "frozen_vars = list(set(good_vars) - set(clean_vars))\n",
    "df_instances_clean_frozen = df_instances_logical.drop(columns=frozen_vars, errors='ignore')\n",
    "print(clean_vars)"
   ],
   "metadata": {
    "collapsed": false
   }
  },
  {
   "cell_type": "markdown",
   "source": [
    "eliminate가 True이면, instance 단위에서"
   ],
   "metadata": {
    "collapsed": false
   }
  },
  {
   "cell_type": "code",
   "execution_count": 135,
   "outputs": [],
   "source": [
    "eliminate = False\n",
    "elim_clean_id = []\n",
    "in_frozen = 0\n",
    "in_total_frozen = 0\n",
    "for id in logical_id:\n",
    "    scaler = MinMaxScaler()\n",
    "    idxs = (df_instances_clean_frozen['instance_id']==id)\n",
    "    scaler.fit(df_instances_clean_frozen[idxs][clean_vars])\n",
    "    df_scaled = scaler.fit_transform(df_instances_clean_frozen[idxs][clean_vars])\n",
    "    df_scaled = pd.DataFrame(df_scaled, columns=clean_vars)\n",
    "    if True in (np.nanstd(df_scaled[clean_vars], 0) < std_vars_min):\n",
    "        if eliminate:\n",
    "            elim_clean_id.append(id)\n",
    "        else:\n",
    "            pass\n",
    "        in_frozen += (df_instances_clean_frozen['instance_id']==id)\n",
    "        if not eliminate:\n",
    "            clean_vars_instance = np.array(clean_vars)\n",
    "            df_instances_clean_frozen.loc[in_frozen.astype(bool),clean_vars_instance[np.nanstd(df_scaled[clean_vars], 0) < std_vars_min]] = 0\n",
    "            if len(set(clean_vars_instance[np.nanstd(df_scaled[clean_vars], 0) < std_vars_min])) == len(clean_vars):\n",
    "                elim_clean_id.append(id)\n",
    "                in_total_frozen += (df_instances_clean_frozen['instance_id']==id)\n",
    "\n",
    "clean_id = list((set(logical_id) - set(elim_clean_id)))\n",
    "if eliminate:\n",
    "    df_instances_clean = df_instances_clean_frozen[~in_frozen.astype(bool)]\n",
    "else:\n",
    "    if not isinstance(in_total_frozen, int):\n",
    "        df_instances_clean = df_instances_clean_frozen[~in_total_frozen.astype(bool)]\n",
    "    else:\n",
    "        df_instances_clean = df_instances_clean_frozen"
   ],
   "metadata": {
    "collapsed": false
   }
  },
  {
   "cell_type": "markdown",
   "source": [
    "NaN값은 linear interpolation으로 처리"
   ],
   "metadata": {
    "collapsed": false
   }
  },
  {
   "cell_type": "code",
   "execution_count": 138,
   "outputs": [],
   "source": [
    "df_instances_clean[clean_vars] = df_instances_clean[clean_vars].interpolate(method='linear')"
   ],
   "metadata": {
    "collapsed": false
   }
  },
  {
   "cell_type": "code",
   "execution_count": 139,
   "outputs": [
    {
     "data": {
      "text/plain": "1984"
     },
     "execution_count": 139,
     "metadata": {},
     "output_type": "execute_result"
    }
   ],
   "source": [
    "len(set(df_instances_clean['instance_id']))"
   ],
   "metadata": {
    "collapsed": false
   }
  },
  {
   "cell_type": "markdown",
   "source": [
    "#### Dimensionality reduction using MA & PCA"
   ],
   "metadata": {
    "collapsed": false
   }
  },
  {
   "cell_type": "code",
   "execution_count": null,
   "outputs": [],
   "source": [
    "# window_size = 5\n",
    "# clean_instances = instances.loc[clean_id]\n",
    "# df_others = df_instances_clean.drop(clean_vars, axis=1)\n",
    "# sample = {}\n",
    "# sample_class={i:0 for i in list(set(clean_instances['class_code']))}\n",
    "# num_class={i:len(clean_instances.loc[instances['class_code'] ==i]) for i in list(set(clean_instances['class_code']))}\n",
    "# df_samesize = pd.DataFrame(columns=df_instances_clean.columns)\n",
    "# for ids in clean_id:\n",
    "#     for var in clean_vars:\n",
    "#         idxs = (df_instances_clean['instance_id']==ids)\n",
    "#         ma = df_instances_clean[idxs][clean_vars].rolling(window=window_size).mean()\n",
    "#         df_tmp = pd.concat([df_others[idxs], ma], axis=1)\n",
    "#         df_samesize = pd.concat([df_samesize, df_tmp.loc[np.linspace(df_tmp.index[0],df_tmp.index[-1],10).astype(int), ]], axis=0)\n",
    "#         sample_class[instances.loc[ids,]['class_code']] = sample_class[clean_instances.loc[ids,]['class_code']] + ma.reset_index(drop=True)\n",
    "#         sample_class[instances.loc[ids,]['class_code']].reset_index(drop=True)\n",
    "#         sample[ids] = df_tmp.loc[np.linspace(df_tmp.index[0],df_tmp.index[-1],10).astype(int), ][clean_vars].T.to_numpy().flatten()\n",
    "#\n",
    "# plt.plot(df_instances_clean[idxs][var])\n",
    "# plt.plot(ma[var])\n",
    "# plt.title(var)\n",
    "# plt.legend(['Downsampling', 'Moving average', 'Same size'])\n",
    "# plt.show()"
   ],
   "metadata": {
    "collapsed": false,
    "pycharm": {
     "is_executing": true
    }
   }
  },
  {
   "cell_type": "code",
   "execution_count": null,
   "outputs": [],
   "source": [
    "# sample_samesize = np.concatenate(list(sample.values())).reshape(962, -1)\n",
    "# samples = pd.DataFrame(sample_samesize).dropna(axis=1)\n",
    "# samples_class = pd.concat([samples, instances.loc[clean_id]['class_code'].reset_index(drop=True)], axis=1)\n",
    "# samples"
   ],
   "metadata": {
    "collapsed": false,
    "pycharm": {
     "is_executing": true
    }
   }
  },
  {
   "cell_type": "code",
   "execution_count": null,
   "outputs": [],
   "source": [
    "# from sklearn.cluster import KMeans\n",
    "# from sklearn.metrics import silhouette_score\n",
    "# from random import random\n",
    "#\n",
    "# num_clusters = 9\n",
    "# kmeans = KMeans(n_clusters=num_clusters,\n",
    "# init= 'k-means++',\n",
    "# n_init=10,\n",
    "# max_iter=30000,\n",
    "# tol=0.001,\n",
    "# verbose=0,\n",
    "# random_state=None,\n",
    "# copy_x=True,\n",
    "# algorithm='lloyd').fit(samples)\n",
    "# cluster_ids = kmeans.labels_\n",
    "# cst = kmeans.predict(samples)\n",
    "# score = silhouette_score(samples, cst)\n",
    "# print(score)"
   ],
   "metadata": {
    "collapsed": false,
    "pycharm": {
     "is_executing": true
    }
   }
  },
  {
   "cell_type": "markdown",
   "source": [
    "#### Classification using TSFresh"
   ],
   "metadata": {
    "collapsed": false
   }
  },
  {
   "cell_type": "code",
   "execution_count": 140,
   "outputs": [
    {
     "data": {
      "text/plain": "1984"
     },
     "execution_count": 140,
     "metadata": {},
     "output_type": "execute_result"
    }
   ],
   "source": [
    "len(set(df_instances_clean['instance_id']))"
   ],
   "metadata": {
    "collapsed": false
   }
  },
  {
   "cell_type": "code",
   "execution_count": 226,
   "outputs": [
    {
     "name": "stdout",
     "output_type": "stream",
     "text": [
      "{'median': None, 'mean': None, 'length': None, 'standard_deviation': None, 'variance': None, 'maximum': None, 'minimum': None}\n"
     ]
    }
   ],
   "source": [
    "df_fc_p = MinimalFCParameters() # See tsfresh's documentation\n",
    "df_fc_p.pop('sum_values')       # Excludes inappropriate feature\n",
    "# df_fc_p.pop('length')           # Excludes inappropriate feature\n",
    "df_fc_p.pop('root_mean_square')\n",
    "df_fc_p.pop('absolute_maximum')\n",
    "print(df_fc_p)"
   ],
   "metadata": {
    "collapsed": false
   }
  },
  {
   "cell_type": "code",
   "execution_count": 227,
   "outputs": [],
   "source": [
    "df_real = df_instances_clean[df_instances_clean['source']=='real']\n",
    "# X (real)\n",
    "real_id = list(set(df_real['instance_id']))\n",
    "# Y (real)\n",
    "real_class= list(instances.loc[real_id]['class_code'])\n",
    "\n",
    "df_sim = df_instances_clean[df_instances_clean['source']=='simulated']\n",
    "sim_id = list(set(df_sim['instance_id']))\n",
    "sim_class= list(instances.loc[sim_id]['class_code'])\n",
    "\n",
    "\n",
    "df_drawn = df_instances_clean[df_instances_clean['source']=='drawn']\n",
    "drawn_id = list(set(df_drawn['instance_id']))\n",
    "drawn_class= list(instances.loc[drawn_id]['class_code'])\n",
    "\n",
    "df_synthetic = pd.concat([df_sim, df_drawn], axis=0).reset_index(drop=True)\n",
    "synthetic_id = sim_id + drawn_id\n",
    "synthetic_class = sim_class + drawn_class"
   ],
   "metadata": {
    "collapsed": false
   }
  },
  {
   "cell_type": "markdown",
   "source": [
    "Real instances에서 train과 test를 나누고, 여기서 simulated와 drawn은 train에만 넣어줌"
   ],
   "metadata": {
    "collapsed": false
   }
  },
  {
   "cell_type": "code",
   "execution_count": 229,
   "outputs": [],
   "source": [
    "from sklearn.model_selection import train_test_split\n",
    "num_of_augmentation = {'real':1, 'sim':1, 'drawn':0}\n",
    "test_ratio = 0.3\n",
    "use_synthetic = True\n",
    "X_train_id, X_test_id, y_train_id, y_test = train_test_split(real_id, real_class, test_size=test_ratio, random_state=15)\n",
    "X_train_id, X_test_id, y_train, y_test = np.array(X_train_id), np.array(X_test_id), np.array(y_train_id), np.array(y_test)\n",
    "\n",
    "\n",
    "X_train = pd.DataFrame()\n",
    "X_test = pd.DataFrame()\n",
    "id_ = 0\n",
    "for id in X_train_id:\n",
    "    df_tmp = df_instances_clean[df_instances_clean['instance_id'] == id]\n",
    "    df_tmp['id']=id_\n",
    "    X_train = pd.concat([X_train, df_tmp], axis=0).reset_index(drop=True)\n",
    "    id_ +=1\n",
    "for id in X_test_id:\n",
    "    df_tmp = df_instances_clean[df_instances_clean['instance_id'] == id]\n",
    "    df_tmp['id']=id_\n",
    "    X_test = pd.concat([X_test, df_tmp], axis=0).reset_index(drop=True)\n",
    "    id_ +=1\n",
    "\n",
    "# add synthetic data\n",
    "if use_synthetic:\n",
    "    for id in synthetic_id:\n",
    "        df_tmp = df_instances_clean[df_instances_clean['instance_id'] == id]\n",
    "        df_tmp['id']=id_\n",
    "        X_train = pd.concat([X_train, df_tmp], axis=0).reset_index(drop=True)\n",
    "        id_ +=1\n",
    "    y_train = np.concatenate([y_train, synthetic_class])\n",
    "\n",
    "# data augmentation\n",
    "for _ in range(num_of_augmentation['real']):\n",
    "    for id in X_train_id:\n",
    "        df_tmp = add_noise(df_instances_clean, id, clean_vars)\n",
    "        df_tmp['id']=id_\n",
    "        X_train = pd.concat([X_train, df_tmp], axis=0).reset_index(drop=True)\n",
    "        id_ +=1\n",
    "    y_train = np.concatenate([y_train,y_train_id])\n",
    "\n",
    "for _ in range(num_of_augmentation['sim']):\n",
    "    for id in sim_id:\n",
    "        df_tmp = add_noise(df_instances_clean, id, clean_vars)\n",
    "        df_tmp['id']=id_\n",
    "        X_train = pd.concat([X_train, df_tmp], axis=0).reset_index(drop=True)\n",
    "        id_ +=1\n",
    "    y_train = np.concatenate([y_train,sim_class])\n",
    "\n",
    "for _ in range(num_of_augmentation['drawn']):\n",
    "    for id in drawn_id:\n",
    "        df_tmp = add_noise(df_instances_clean, id, clean_vars)\n",
    "        df_tmp['id']=id_\n",
    "        X_train = pd.concat([X_train, df_tmp], axis=0).reset_index(drop=True)\n",
    "        id_ +=1\n",
    "    y_train = np.concatenate([y_train, drawn_class])\n",
    "\n",
    "# class modification for binary classification\n",
    "#y_test[y_test!=0] = 1\n",
    "#y_train[y_train!=0] = 1\n",
    "\n",
    "X_train_raw = X_train.drop(['class', 'source'], axis=1)\n",
    "X_test_raw = X_test.drop(['class', 'source'], axis=1)"
   ],
   "metadata": {
    "collapsed": false
   }
  },
  {
   "cell_type": "code",
   "execution_count": 230,
   "outputs": [],
   "source": [
    "X_train = extract_features(X_train_raw, column_id='id', column_sort='timestamp', default_fc_parameters=df_fc_p, impute_function=impute, n_jobs=0, disable_progressbar=disable_progressbar)\n",
    "\n",
    "X_test = extract_features(X_test_raw, column_id='id', column_sort='timestamp', default_fc_parameters=df_fc_p, impute_function=impute, n_jobs=0, disable_progressbar=disable_progressbar)"
   ],
   "metadata": {
    "collapsed": false
   }
  },
  {
   "cell_type": "code",
   "execution_count": 231,
   "outputs": [
    {
     "name": "stdout",
     "output_type": "stream",
     "text": [
      "X_train: 3332\n",
      "y_train: 3332\n",
      "X_test: 308\n",
      "y_test: 308\n"
     ]
    }
   ],
   "source": [
    "print(f'X_train: {len(X_train)}\\ny_train: {len(y_train)}\\nX_test: {len(X_test)}\\ny_test: {len(y_test)}')"
   ],
   "metadata": {
    "collapsed": false
   }
  },
  {
   "cell_type": "markdown",
   "source": [
    "#### Random Forest classifier with Bayesian optimization"
   ],
   "metadata": {
    "collapsed": false
   }
  },
  {
   "cell_type": "code",
   "execution_count": 232,
   "outputs": [
    {
     "name": "stdout",
     "output_type": "stream",
     "text": [
      "|   iter    |  target   | max_depth | min_sa... | min_sa... | n_esti... |\n",
      "-------------------------------------------------------------------------\n",
      "| \u001B[0m1        \u001B[0m | \u001B[0m0.974    \u001B[0m | \u001B[0m11.17    \u001B[0m | \u001B[0m13.69    \u001B[0m | \u001B[0m3.629    \u001B[0m | \u001B[0m421.7    \u001B[0m |\n",
      "| \u001B[95m2        \u001B[0m | \u001B[95m0.9773   \u001B[0m | \u001B[95m6.912    \u001B[0m | \u001B[95m4.862    \u001B[0m | \u001B[95m6.225    \u001B[0m | \u001B[95m330.5    \u001B[0m |\n",
      "| \u001B[0m3        \u001B[0m | \u001B[0m0.974    \u001B[0m | \u001B[0m18.35    \u001B[0m | \u001B[0m15.11    \u001B[0m | \u001B[0m6.948    \u001B[0m | \u001B[0m241.1    \u001B[0m |\n",
      "| \u001B[95m4        \u001B[0m | \u001B[95m0.9838   \u001B[0m | \u001B[95m8.889    \u001B[0m | \u001B[95m6.7      \u001B[0m | \u001B[95m5.717    \u001B[0m | \u001B[95m330.6    \u001B[0m |\n",
      "| \u001B[0m5        \u001B[0m | \u001B[0m0.974    \u001B[0m | \u001B[0m8.386    \u001B[0m | \u001B[0m11.84    \u001B[0m | \u001B[0m14.68    \u001B[0m | \u001B[0m274.2    \u001B[0m |\n",
      "| \u001B[0m6        \u001B[0m | \u001B[0m0.9838   \u001B[0m | \u001B[0m9.096    \u001B[0m | \u001B[0m8.74     \u001B[0m | \u001B[0m7.48     \u001B[0m | \u001B[0m332.4    \u001B[0m |\n",
      "| \u001B[0m7        \u001B[0m | \u001B[0m0.9838   \u001B[0m | \u001B[0m10.65    \u001B[0m | \u001B[0m7.178    \u001B[0m | \u001B[0m7.713    \u001B[0m | \u001B[0m332.0    \u001B[0m |\n",
      "| \u001B[0m8        \u001B[0m | \u001B[0m0.9838   \u001B[0m | \u001B[0m12.18    \u001B[0m | \u001B[0m6.969    \u001B[0m | \u001B[0m3.802    \u001B[0m | \u001B[0m331.9    \u001B[0m |\n",
      "| \u001B[0m9        \u001B[0m | \u001B[0m0.9838   \u001B[0m | \u001B[0m10.86    \u001B[0m | \u001B[0m7.704    \u001B[0m | \u001B[0m4.542    \u001B[0m | \u001B[0m329.1    \u001B[0m |\n",
      "| \u001B[0m10       \u001B[0m | \u001B[0m0.9838   \u001B[0m | \u001B[0m9.913    \u001B[0m | \u001B[0m8.117    \u001B[0m | \u001B[0m6.479    \u001B[0m | \u001B[0m332.2    \u001B[0m |\n",
      "| \u001B[0m11       \u001B[0m | \u001B[0m0.974    \u001B[0m | \u001B[0m9.149    \u001B[0m | \u001B[0m10.62    \u001B[0m | \u001B[0m8.592    \u001B[0m | \u001B[0m329.9    \u001B[0m |\n",
      "| \u001B[0m12       \u001B[0m | \u001B[0m0.9838   \u001B[0m | \u001B[0m8.899    \u001B[0m | \u001B[0m6.643    \u001B[0m | \u001B[0m7.649    \u001B[0m | \u001B[0m333.4    \u001B[0m |\n",
      "| \u001B[95m13       \u001B[0m | \u001B[95m0.987    \u001B[0m | \u001B[95m12.18    \u001B[0m | \u001B[95m4.784    \u001B[0m | \u001B[95m6.212    \u001B[0m | \u001B[95m332.2    \u001B[0m |\n",
      "| \u001B[0m14       \u001B[0m | \u001B[0m0.987    \u001B[0m | \u001B[0m12.96    \u001B[0m | \u001B[0m4.196    \u001B[0m | \u001B[0m5.797    \u001B[0m | \u001B[0m330.5    \u001B[0m |\n",
      "| \u001B[0m15       \u001B[0m | \u001B[0m0.987    \u001B[0m | \u001B[0m14.29    \u001B[0m | \u001B[0m4.417    \u001B[0m | \u001B[0m6.716    \u001B[0m | \u001B[0m333.3    \u001B[0m |\n",
      "| \u001B[0m16       \u001B[0m | \u001B[0m0.987    \u001B[0m | \u001B[0m13.2     \u001B[0m | \u001B[0m2.447    \u001B[0m | \u001B[0m7.123    \u001B[0m | \u001B[0m332.2    \u001B[0m |\n",
      "| \u001B[0m17       \u001B[0m | \u001B[0m0.987    \u001B[0m | \u001B[0m14.92    \u001B[0m | \u001B[0m2.088    \u001B[0m | \u001B[0m6.113    \u001B[0m | \u001B[0m332.0    \u001B[0m |\n",
      "| \u001B[0m18       \u001B[0m | \u001B[0m0.987    \u001B[0m | \u001B[0m12.84    \u001B[0m | \u001B[0m2.984    \u001B[0m | \u001B[0m4.905    \u001B[0m | \u001B[0m332.2    \u001B[0m |\n",
      "| \u001B[0m19       \u001B[0m | \u001B[0m0.987    \u001B[0m | \u001B[0m19.55    \u001B[0m | \u001B[0m3.095    \u001B[0m | \u001B[0m8.615    \u001B[0m | \u001B[0m332.6    \u001B[0m |\n",
      "| \u001B[0m20       \u001B[0m | \u001B[0m0.987    \u001B[0m | \u001B[0m17.38    \u001B[0m | \u001B[0m2.577    \u001B[0m | \u001B[0m9.395    \u001B[0m | \u001B[0m330.0    \u001B[0m |\n",
      "| \u001B[0m21       \u001B[0m | \u001B[0m0.987    \u001B[0m | \u001B[0m16.94    \u001B[0m | \u001B[0m2.0      \u001B[0m | \u001B[0m10.27    \u001B[0m | \u001B[0m333.5    \u001B[0m |\n",
      "| \u001B[0m22       \u001B[0m | \u001B[0m0.9838   \u001B[0m | \u001B[0m19.15    \u001B[0m | \u001B[0m3.933    \u001B[0m | \u001B[0m13.32    \u001B[0m | \u001B[0m330.9    \u001B[0m |\n",
      "| \u001B[0m23       \u001B[0m | \u001B[0m0.987    \u001B[0m | \u001B[0m18.85    \u001B[0m | \u001B[0m3.504    \u001B[0m | \u001B[0m5.651    \u001B[0m | \u001B[0m328.2    \u001B[0m |\n",
      "| \u001B[0m24       \u001B[0m | \u001B[0m0.987    \u001B[0m | \u001B[0m17.95    \u001B[0m | \u001B[0m3.614    \u001B[0m | \u001B[0m5.87     \u001B[0m | \u001B[0m331.2    \u001B[0m |\n",
      "| \u001B[0m25       \u001B[0m | \u001B[0m0.987    \u001B[0m | \u001B[0m18.61    \u001B[0m | \u001B[0m2.838    \u001B[0m | \u001B[0m5.548    \u001B[0m | \u001B[0m338.7    \u001B[0m |\n",
      "=========================================================================\n"
     ]
    }
   ],
   "source": [
    "from sklearn.ensemble import RandomForestClassifier\n",
    "from bayes_opt import BayesianOptimization\n",
    "from bayes_opt import UtilityFunction\n",
    "from sklearn.metrics import precision_recall_fscore_support\n",
    "\n",
    "hyper = {'n_estimators':(50,500), 'max_depth':(5, 20), 'min_samples_leaf':(2,16), 'min_samples_split':(2,16)}\n",
    "hyper_type = round\n",
    "\n",
    "def objective(n_estimators, max_depth, min_samples_leaf, min_samples_split):\n",
    "    for param in hyper.keys():\n",
    "        hyper[param] = hyper_type(eval(param))\n",
    "    RF_model = RandomForestClassifier(n_estimators=int(n_estimators),\n",
    "                                     max_depth=int(max_depth),\n",
    "                                     min_samples_leaf=int(min_samples_leaf),\n",
    "                                     min_samples_split=int(min_samples_split),\n",
    "                                     random_state=0)\n",
    "    RF_model.fit(X_train, y_train)\n",
    "    y_pred = RF_model.predict(X_test)\n",
    "    colums_class = ['True', 'Pred']\n",
    "    df_class = pd.DataFrame(columns=colums_class)\n",
    "    df_class['True'] = y_test\n",
    "    df_class['Pred'] = y_pred\n",
    "    ret = precision_recall_fscore_support(df_class['True'], df_class['Pred'], average='micro')\n",
    "    p, r, f1, _ = ret\n",
    "    return np.average(f1)\n",
    "\n",
    "BO = BayesianOptimization(f= objective, pbounds=hyper)\n",
    "acquisition_function = UtilityFunction(kind='ei', xi=0.0001)\n",
    "BO.maximize(init_points=5, n_iter=20, acquisition_function=acquisition_function)"
   ],
   "metadata": {
    "collapsed": false
   }
  },
  {
   "cell_type": "code",
   "execution_count": 249,
   "outputs": [
    {
     "name": "stdout",
     "output_type": "stream",
     "text": [
      " precision : 0.987\n",
      "    recall : 0.987\n",
      "        f1 : 0.987\n"
     ]
    }
   ],
   "source": [
    "params_opt = {}\n",
    "for param in BO.max['params'].keys():\n",
    "    params_opt[param] = int(BO.max['params'][param])\n",
    "\n",
    "RF_model = RandomForestClassifier(n_estimators=params_opt['n_estimators'],\n",
    "                                     max_depth=params_opt['max_depth'],\n",
    "                                     min_samples_leaf=params_opt['min_samples_leaf'],\n",
    "                                     min_samples_split=params_opt['min_samples_split'],\n",
    "                                     random_state=0)\n",
    "RF_model.fit(X_train, y_train)\n",
    "y_pred = RF_model.predict(X_test)\n",
    "colums_class = ['True', 'Pred']\n",
    "df_class = pd.DataFrame(columns=colums_class)\n",
    "df_class['True'] = y_test\n",
    "df_class['Pred'] = y_pred\n",
    "precision, recall, f1, _ = precision_recall_fscore_support(df_class['True'], df_class['Pred'], average='micro')\n",
    "\n",
    "# print('{:>10} : {:.2f}'.format( 'accuracy', accuracy ) )\n",
    "print('{:>10} : {:.3f}'.format( 'precision', np.average(precision) ) )\n",
    "print('{:>10} : {:.3f}'.format( 'recall', np.average(recall) ) )\n",
    "print('{:>10} : {:.3f}'.format( 'f1', np.average(f1) ) )"
   ],
   "metadata": {
    "collapsed": false
   }
  },
  {
   "cell_type": "code",
   "execution_count": 250,
   "outputs": [
    {
     "data": {
      "text/plain": "<Figure size 640x480 with 2 Axes>",
      "image/png": "[encoded data removed]"
     },
     "metadata": {},
     "output_type": "display_data"
    }
   ],
   "source": [
    "from sklearn.metrics import confusion_matrix\n",
    "labels = [events_names[n] for n in list(set(instances.loc[list(set(X_test_raw['instance_id']))]['class_code']))]\n",
    "conf_m = confusion_matrix(df_class['True'] , df_class['Pred'] )\n",
    "sns.heatmap(\n",
    "    conf_m,xticklabels= labels, yticklabels=labels,\n",
    "    linewidths=.5, annot=True, cmap = \"YlGnBu\",fmt=\"d\")\n",
    "plt.savefig('test_results.png',bbox_inches = 'tight')\n",
    "plt.show()"
   ],
   "metadata": {
    "collapsed": false
   }
  },
  {
   "cell_type": "code",
   "execution_count": 246,
   "outputs": [
    {
     "name": "stdout",
     "output_type": "stream",
     "text": [
      " precision : 0.999\n",
      "    recall : 0.999\n",
      "        f1 : 0.999\n"
     ]
    }
   ],
   "source": [
    "y_pred = RF_model.predict(X_train)\n",
    "colums_class = ['True', 'Pred']\n",
    "df_class = pd.DataFrame(columns=colums_class)\n",
    "df_class['True'] = y_train\n",
    "df_class['Pred'] = y_pred\n",
    "precision, recall, f1, _ = precision_recall_fscore_support(df_class['True'], df_class['Pred'], average='micro')\n",
    "\n",
    "# print('{:>10} : {:.2f}'.format( 'accuracy', accuracy ) )\n",
    "print('{:>10} : {:.3f}'.format( 'precision', np.average(precision) ) )\n",
    "print('{:>10} : {:.3f}'.format( 'recall', np.average(recall) ) )\n",
    "print('{:>10} : {:.3f}'.format( 'f1', np.average(f1) ) )"
   ],
   "metadata": {
    "collapsed": false
   }
  },
  {
   "cell_type": "code",
   "execution_count": 247,
   "outputs": [
    {
     "data": {
      "text/plain": "<Figure size 640x480 with 2 Axes>",
      "image/png": "[encoded data removed]"
     },
     "metadata": {},
     "output_type": "display_data"
    }
   ],
   "source": [
    "from sklearn.metrics import confusion_matrix\n",
    "labels = [events_names[n] for n in list(set(instances.loc[list(set(X_test_raw['instance_id']))]['class_code']))]\n",
    "conf_m = confusion_matrix(df_class['True'] , df_class['Pred'] )\n",
    "sns.heatmap(\n",
    "    conf_m,xticklabels= labels, yticklabels=labels,\n",
    "    linewidths=.5, annot=True, cmap = \"YlGnBu\",fmt=\"d\")\n",
    "plt.savefig('train_results.png',bbox_inches = 'tight')\n",
    "plt.show()"
   ],
   "metadata": {
    "collapsed": false
   }
  },
  {
   "cell_type": "markdown",
   "source": [
    "#### XGBoost classifier with Bayesian optimization"
   ],
   "metadata": {
    "collapsed": false
   }
  },
  {
   "cell_type": "code",
   "execution_count": null,
   "outputs": [],
   "source": [
    "print(f1)"
   ],
   "metadata": {
    "collapsed": false
   }
  },
  {
   "cell_type": "code",
   "execution_count": 252,
   "outputs": [
    {
     "name": "stdout",
     "output_type": "stream",
     "text": [
      "|   iter    |  target   | colsam... |   gamma   | learni... | max_depth | min_ch... | n_esti... | subsample |\n",
      "-------------------------------------------------------------------------------------------------------------\n",
      "| \u001B[0m1        \u001B[0m | \u001B[0m0.9448   \u001B[0m | \u001B[0m0.5336   \u001B[0m | \u001B[0m72.03    \u001B[0m | \u001B[0m0.01002  \u001B[0m | \u001B[0m4.209    \u001B[0m | \u001B[0m0.4403   \u001B[0m | \u001B[0m91.55    \u001B[0m | \u001B[0m0.5931   \u001B[0m |\n",
      "| \u001B[0m2        \u001B[0m | \u001B[0m0.9448   \u001B[0m | \u001B[0m0.4764   \u001B[0m | \u001B[0m39.68    \u001B[0m | \u001B[0m0.1124   \u001B[0m | \u001B[0m4.677    \u001B[0m | \u001B[0m2.056    \u001B[0m | \u001B[0m142.0    \u001B[0m | \u001B[0m0.9391   \u001B[0m |\n",
      "| \u001B[95m3        \u001B[0m | \u001B[95m0.9481   \u001B[0m | \u001B[95m0.2219   \u001B[0m | \u001B[95m67.05    \u001B[0m | \u001B[95m0.08929  \u001B[0m | \u001B[95m5.235    \u001B[0m | \u001B[95m0.4212   \u001B[0m | \u001B[95m139.1    \u001B[0m | \u001B[95m0.9004   \u001B[0m |\n",
      "| \u001B[0m4        \u001B[0m | \u001B[0m0.9416   \u001B[0m | \u001B[0m0.9746   \u001B[0m | \u001B[0m31.34    \u001B[0m | \u001B[0m0.1415   \u001B[0m | \u001B[0m6.506    \u001B[0m | \u001B[0m2.684    \u001B[0m | \u001B[0m88.27    \u001B[0m | \u001B[0m0.5195   \u001B[0m |\n",
      "| \u001B[0m5        \u001B[0m | \u001B[0m0.9416   \u001B[0m | \u001B[0m0.3359   \u001B[0m | \u001B[0m87.81    \u001B[0m | \u001B[0m0.02869  \u001B[0m | \u001B[0m4.684    \u001B[0m | \u001B[0m2.874    \u001B[0m | \u001B[0m289.9    \u001B[0m | \u001B[0m0.8459   \u001B[0m |\n",
      "| \u001B[0m6        \u001B[0m | \u001B[0m0.9448   \u001B[0m | \u001B[0m0.4341   \u001B[0m | \u001B[0m66.51    \u001B[0m | \u001B[0m0.1824   \u001B[0m | \u001B[0m4.402    \u001B[0m | \u001B[0m1.019    \u001B[0m | \u001B[0m139.8    \u001B[0m | \u001B[0m0.6606   \u001B[0m |\n",
      "| \u001B[0m7        \u001B[0m | \u001B[0m0.9481   \u001B[0m | \u001B[0m0.3755   \u001B[0m | \u001B[0m67.62    \u001B[0m | \u001B[0m0.02322  \u001B[0m | \u001B[0m3.554    \u001B[0m | \u001B[0m0.1768   \u001B[0m | \u001B[0m138.9    \u001B[0m | \u001B[0m0.7127   \u001B[0m |\n",
      "| \u001B[0m8        \u001B[0m | \u001B[0m0.9383   \u001B[0m | \u001B[0m0.3285   \u001B[0m | \u001B[0m68.22    \u001B[0m | \u001B[0m0.1961   \u001B[0m | \u001B[0m6.771    \u001B[0m | \u001B[0m0.6163   \u001B[0m | \u001B[0m138.5    \u001B[0m | \u001B[0m0.6081   \u001B[0m |\n",
      "| \u001B[0m9        \u001B[0m | \u001B[0m0.9383   \u001B[0m | \u001B[0m0.7728   \u001B[0m | \u001B[0m66.06    \u001B[0m | \u001B[0m0.1673   \u001B[0m | \u001B[0m4.108    \u001B[0m | \u001B[0m2.125    \u001B[0m | \u001B[0m137.0    \u001B[0m | \u001B[0m0.8968   \u001B[0m |\n",
      "| \u001B[0m10       \u001B[0m | \u001B[0m0.9448   \u001B[0m | \u001B[0m0.6142   \u001B[0m | \u001B[0m66.75    \u001B[0m | \u001B[0m0.1362   \u001B[0m | \u001B[0m3.279    \u001B[0m | \u001B[0m0.6584   \u001B[0m | \u001B[0m139.8    \u001B[0m | \u001B[0m0.6808   \u001B[0m |\n",
      "| \u001B[0m11       \u001B[0m | \u001B[0m0.9448   \u001B[0m | \u001B[0m0.9063   \u001B[0m | \u001B[0m73.99    \u001B[0m | \u001B[0m0.0106   \u001B[0m | \u001B[0m3.768    \u001B[0m | \u001B[0m0.4136   \u001B[0m | \u001B[0m92.43    \u001B[0m | \u001B[0m0.5195   \u001B[0m |\n",
      "| \u001B[0m12       \u001B[0m | \u001B[0m0.9448   \u001B[0m | \u001B[0m0.2682   \u001B[0m | \u001B[0m66.9     \u001B[0m | \u001B[0m0.08885  \u001B[0m | \u001B[0m4.354    \u001B[0m | \u001B[0m0.01285  \u001B[0m | \u001B[0m137.6    \u001B[0m | \u001B[0m0.7442   \u001B[0m |\n",
      "| \u001B[0m13       \u001B[0m | \u001B[0m0.9383   \u001B[0m | \u001B[0m0.9869   \u001B[0m | \u001B[0m65.79    \u001B[0m | \u001B[0m0.1349   \u001B[0m | \u001B[0m5.674    \u001B[0m | \u001B[0m0.05239  \u001B[0m | \u001B[0m138.1    \u001B[0m | \u001B[0m0.522    \u001B[0m |\n",
      "| \u001B[0m14       \u001B[0m | \u001B[0m0.9416   \u001B[0m | \u001B[0m0.9642   \u001B[0m | \u001B[0m66.55    \u001B[0m | \u001B[0m0.0321   \u001B[0m | \u001B[0m5.905    \u001B[0m | \u001B[0m0.04388  \u001B[0m | \u001B[0m140.4    \u001B[0m | \u001B[0m0.7845   \u001B[0m |\n",
      "| \u001B[0m15       \u001B[0m | \u001B[0m0.9448   \u001B[0m | \u001B[0m0.5077   \u001B[0m | \u001B[0m41.63    \u001B[0m | \u001B[0m0.112    \u001B[0m | \u001B[0m5.154    \u001B[0m | \u001B[0m2.417    \u001B[0m | \u001B[0m142.6    \u001B[0m | \u001B[0m0.9223   \u001B[0m |\n",
      "| \u001B[0m16       \u001B[0m | \u001B[0m0.9448   \u001B[0m | \u001B[0m0.5981   \u001B[0m | \u001B[0m67.28    \u001B[0m | \u001B[0m0.07657  \u001B[0m | \u001B[0m3.746    \u001B[0m | \u001B[0m1.012    \u001B[0m | \u001B[0m139.1    \u001B[0m | \u001B[0m0.9873   \u001B[0m |\n",
      "| \u001B[0m17       \u001B[0m | \u001B[0m0.9416   \u001B[0m | \u001B[0m0.2931   \u001B[0m | \u001B[0m69.01    \u001B[0m | \u001B[0m0.01022  \u001B[0m | \u001B[0m3.33     \u001B[0m | \u001B[0m0.2726   \u001B[0m | \u001B[0m137.2    \u001B[0m | \u001B[0m0.6466   \u001B[0m |\n",
      "| \u001B[0m18       \u001B[0m | \u001B[0m0.9383   \u001B[0m | \u001B[0m0.9569   \u001B[0m | \u001B[0m66.87    \u001B[0m | \u001B[0m0.04261  \u001B[0m | \u001B[0m4.576    \u001B[0m | \u001B[0m0.0242   \u001B[0m | \u001B[0m139.7    \u001B[0m | \u001B[0m0.6502   \u001B[0m |\n",
      "| \u001B[95m19       \u001B[0m | \u001B[95m0.9643   \u001B[0m | \u001B[95m0.68     \u001B[0m | \u001B[95m25.83    \u001B[0m | \u001B[95m0.1716   \u001B[0m | \u001B[95m5.128    \u001B[0m | \u001B[95m1.011    \u001B[0m | \u001B[95m442.0    \u001B[0m | \u001B[95m0.8037   \u001B[0m |\n",
      "| \u001B[0m20       \u001B[0m | \u001B[0m0.9188   \u001B[0m | \u001B[0m0.2152   \u001B[0m | \u001B[0m86.27    \u001B[0m | \u001B[0m0.09118  \u001B[0m | \u001B[0m3.782    \u001B[0m | \u001B[0m2.044    \u001B[0m | \u001B[0m236.3    \u001B[0m | \u001B[0m0.6901   \u001B[0m |\n",
      "| \u001B[0m21       \u001B[0m | \u001B[0m0.9416   \u001B[0m | \u001B[0m0.8731   \u001B[0m | \u001B[0m25.66    \u001B[0m | \u001B[0m0.1297   \u001B[0m | \u001B[0m5.748    \u001B[0m | \u001B[0m0.7449   \u001B[0m | \u001B[0m443.3    \u001B[0m | \u001B[0m0.6787   \u001B[0m |\n",
      "| \u001B[0m22       \u001B[0m | \u001B[0m0.9416   \u001B[0m | \u001B[0m0.7532   \u001B[0m | \u001B[0m25.32    \u001B[0m | \u001B[0m0.1381   \u001B[0m | \u001B[0m5.871    \u001B[0m | \u001B[0m0.6014   \u001B[0m | \u001B[0m441.5    \u001B[0m | \u001B[0m0.7074   \u001B[0m |\n",
      "| \u001B[0m23       \u001B[0m | \u001B[0m0.9481   \u001B[0m | \u001B[0m0.4098   \u001B[0m | \u001B[0m41.93    \u001B[0m | \u001B[0m0.0726   \u001B[0m | \u001B[0m3.598    \u001B[0m | \u001B[0m2.83     \u001B[0m | \u001B[0m87.81    \u001B[0m | \u001B[0m0.7648   \u001B[0m |\n",
      "| \u001B[0m24       \u001B[0m | \u001B[0m0.9448   \u001B[0m | \u001B[0m0.6532   \u001B[0m | \u001B[0m58.08    \u001B[0m | \u001B[0m0.1063   \u001B[0m | \u001B[0m5.502    \u001B[0m | \u001B[0m0.04006  \u001B[0m | \u001B[0m167.2    \u001B[0m | \u001B[0m0.8103   \u001B[0m |\n",
      "| \u001B[0m25       \u001B[0m | \u001B[0m0.9643   \u001B[0m | \u001B[0m0.9714   \u001B[0m | \u001B[0m9.248    \u001B[0m | \u001B[0m0.1371   \u001B[0m | \u001B[0m6.289    \u001B[0m | \u001B[0m2.007    \u001B[0m | \u001B[0m293.1    \u001B[0m | \u001B[0m0.9339   \u001B[0m |\n",
      "=============================================================================================================\n"
     ]
    }
   ],
   "source": [
    "import xgboost as xgb\n",
    "\n",
    "def XGB_cv(max_depth,learning_rate, n_estimators, gamma\n",
    "         ,min_child_weight, subsample\n",
    "         ,colsample_bytree, ):\n",
    "\n",
    "  # 모델 정의\n",
    "    model = xgb.XGBClassifier(max_depth=int(max_depth),\n",
    "        learning_rate=learning_rate,\n",
    "        n_estimators=int(n_estimators),\n",
    "        gamma=gamma,\n",
    "        min_child_weight=min_child_weight,\n",
    "        subsample=subsample,\n",
    "        colsample_bytree=colsample_bytree,\n",
    "        )\n",
    "\n",
    "      # 모델 훈련\n",
    "    model.fit(X_train, y_train)\n",
    "\n",
    "      # 예측값 출력\n",
    "    y_pred= model.predict(X_test)\n",
    "    colums_class = ['True', 'Pred']\n",
    "    df_class = pd.DataFrame(columns=colums_class)\n",
    "    df_class['True'] = y_test\n",
    "    df_class['Pred'] = y_pred\n",
    "    precision, recall, f1, _ = precision_recall_fscore_support(df_class['True'], df_class['Pred'], average='micro')\n",
    "    return np.average(f1)\n",
    "\n",
    "pbounds = {'max_depth': (3, 7),\n",
    "                'learning_rate': (0.01, 0.2),\n",
    "                'n_estimators': (50, 500),\n",
    "                'gamma': (0, 100),\n",
    "                'min_child_weight': (0, 3),\n",
    "                'subsample': (0.5, 1),\n",
    "                'colsample_bytree' :(0.2, 1)\n",
    "                }\n",
    "\n",
    "BO_x = BayesianOptimization(f= XGB_cv, pbounds=pbounds, verbose=2, random_state=1)\n",
    "acquisition_function = UtilityFunction(kind='ei', xi=0.01)\n",
    "BO_x.maximize(init_points=5, n_iter=20, acquisition_function=acquisition_function)"
   ],
   "metadata": {
    "collapsed": false
   }
  },
  {
   "cell_type": "code",
   "execution_count": 253,
   "outputs": [
    {
     "name": "stdout",
     "output_type": "stream",
     "text": [
      " precision : 0.71\n",
      "    recall : 0.70\n",
      "        f1 : 0.67\n"
     ]
    }
   ],
   "source": [
    "# params_opt = BO_x.max['params']\n",
    "params_opt= {'max_depth': 3,\n",
    "                'learning_rate': 0.2,\n",
    "                'n_estimators': 5000,\n",
    "                'gamma': 1,\n",
    "                'min_child_weight': 2,\n",
    "                'subsample': 0.5,\n",
    "                'colsample_bytree' :0.2\n",
    "                }\n",
    "\n",
    "model = xgb.XGBClassifier(max_depth=int(params_opt['max_depth']),\n",
    "    learning_rate=params_opt['learning_rate'],\n",
    "    n_estimators=int(params_opt['n_estimators']),\n",
    "    gamma=params_opt['gamma'],\n",
    "    min_child_weight=params_opt['min_child_weight'],\n",
    "    subsample=params_opt['subsample'],\n",
    "    colsample_bytree=params_opt['colsample_bytree'],\n",
    "    nthread=1\n",
    "    )\n",
    "  # 모델 훈련\n",
    "model.fit(X_train, y_train)\n",
    "\n",
    "  # 예측값 출력\n",
    "y_pred= model.predict(X_test)\n",
    "colums_class = ['True', 'Pred']\n",
    "df_class = pd.DataFrame(columns=colums_class)\n",
    "df_class['True'] = y_test\n",
    "df_class['Pred'] = y_pred\n",
    "precision, recall, f1, _ = precision_recall_fscore_support( df_class['True'], df_class['Pred'])\n",
    "\n",
    "# print('{:>10} : {:.2f}'.format( 'accuracy', accuracy ) )\n",
    "print('{:>10} : {:.2f}'.format( 'precision', np.average(precision) ) )\n",
    "print('{:>10} : {:.2f}'.format( 'recall', np.average(recall) ) )\n",
    "print('{:>10} : {:.2f}'.format( 'f1', np.average(f1) ) )"
   ],
   "metadata": {
    "collapsed": false
   }
  },
  {
   "cell_type": "code",
   "execution_count": 254,
   "outputs": [
    {
     "data": {
      "text/plain": "<Figure size 640x480 with 2 Axes>",
      "image/png": "[encoded data removed]"
     },
     "metadata": {},
     "output_type": "display_data"
    }
   ],
   "source": [
    "from sklearn.metrics import confusion_matrix\n",
    "labels = [events_names[n] for n in list(set(instances.loc[list(set(X_test_raw['instance_id']))]['class_code']))]\n",
    "conf_m = confusion_matrix(df_class['True'] , df_class['Pred'] )\n",
    "sns.heatmap(\n",
    "    conf_m,xticklabels= labels, yticklabels=labels,\n",
    "    linewidths=.5, annot=True, cmap = \"YlGnBu\",fmt=\"d\")\n",
    "plt.savefig('train_results.png')\n",
    "plt.show()"
   ],
   "metadata": {
    "collapsed": false
   }
  },
  {
   "cell_type": "code",
   "execution_count": null,
   "outputs": [],
   "source": [],
   "metadata": {
    "collapsed": false
   }
  },
  {
   "cell_type": "code",
   "execution_count": null,
   "outputs": [],
   "source": [],
   "metadata": {
    "collapsed": false
   }
  },
  {
   "cell_type": "markdown",
   "source": [
    "train (sim+hand) 100%+모자라면 real로 채워서 전체의 80%\n",
    "test 나머지 real"
   ],
   "metadata": {
    "collapsed": false
   }
  },
  {
   "cell_type": "code",
   "execution_count": 155,
   "outputs": [
    {
     "name": "stdout",
     "output_type": "stream",
     "text": [
      "num of train: 1687\n",
      "num of test: 297\n",
      "required real data for training dataset: 728\n",
      "test ratio in the real dataset: 0.29\n"
     ]
    }
   ],
   "source": [
    "test_ratio = 0.15\n",
    "num_id = len(set(df_instances_clean['instance_id']))\n",
    "num_test = int(test_ratio * num_id)\n",
    "num_train = num_id - num_test\n",
    "train_real = (num_train - len(synthetic_id))\n",
    "test_ratio_real = round(1 - train_real / len(real_id),2)\n",
    "print(f'num of train: {num_train}\\nnum of test: {num_test}\\nrequired real data for training dataset: {num_train - len(synthetic_id)}\\ntest ratio in the real dataset: {test_ratio_real}')"
   ],
   "metadata": {
    "collapsed": false
   }
  },
  {
   "cell_type": "code",
   "execution_count": null,
   "outputs": [],
   "source": [
    "# X_train_id, X_test_id, y_train, y_test = train_test_split(synthetic_id, synthetic_class, test_size=test_ratio, random_state=15)\n",
    "# X_train_id_syn, X_test_id_syn, y_train_syn, y_test_syn = np.array(X_train_id), np.array(X_test_id), np.array(y_train), np.array(y_test)\n",
    "X_train_id_syn, y_train_syn = np.array(synthetic_id), np.array(synthetic_class)\n",
    "X_train_id_real, X_test_id, y_train_real, y_test = train_test_split(real_id, real_class, test_size=test_ratio_real, random_state=15)\n",
    "X_train_id_real, X_test_id, y_train_real, y_test = np.array(X_train_id_real), np.array(X_test_id_real), np.array(y_train_real), np.array(y_test_real)\n",
    "\n",
    "X_train_id = np.concatenate([X_train_id_syn, X_train_id_real])\n",
    "y_train = np.concatenate([y_train_syn, y_train_real])\n",
    "\n",
    "# class modification for binary classification\n",
    "y_train[y_train!=0] = 1\n",
    "y_test[y_test!=0] = 1\n",
    "\n",
    "X_train = pd.DataFrame()\n",
    "X_test = pd.DataFrame()\n",
    "for id in X_train_id:\n",
    "    X_train = pd.concat([X_train, df_instances_clean[df_instances_clean['instance_id'] == id]], axis=0).reset_index(drop=True)\n",
    "for id in X_test_id:\n",
    "    X_test = pd.concat([X_test, df_instances_clean[df_instances_clean['instance_id'] == id]], axis=0).reset_index(drop=True)\n",
    "\n",
    "X_train_raw = X_train.drop(['class', 'source'], axis=1)\n",
    "X_test_raw = X_test.drop(['class', 'source'], axis=1)"
   ],
   "metadata": {
    "collapsed": false,
    "pycharm": {
     "is_executing": true
    }
   }
  },
  {
   "cell_type": "code",
   "execution_count": null,
   "outputs": [],
   "source": [
    "X_train = extract_features(X_train_raw, column_id='instance_id', column_sort='timestamp', default_fc_parameters=df_fc_p, impute_function=impute, n_jobs=0, disable_progressbar=disable_progressbar)\n",
    "\n",
    "X_test = extract_features(X_test_raw, column_id='instance_id', column_sort='timestamp', default_fc_parameters=df_fc_p, impute_function=impute, n_jobs=0, disable_progressbar=disable_progressbar)\n",
    "print(f'X_train: {len(X_train)}\\ny_train: {len(y_train)}\\nX_test: {len(X_test)}\\ny_test: {len(y_test)}')"
   ],
   "metadata": {
    "collapsed": false,
    "pycharm": {
     "is_executing": true
    }
   }
  },
  {
   "cell_type": "code",
   "execution_count": null,
   "outputs": [],
   "source": [
    "from sklearn.ensemble import RandomForestClassifier\n",
    "from bayes_opt import BayesianOptimization\n",
    "from bayes_opt import UtilityFunction\n",
    "from sklearn.metrics import precision_recall_fscore_support\n",
    "\n",
    "hyper = {'n_estimators':(50,500), 'max_depth':(5, 20), 'min_samples_leaf':(2,16), 'min_samples_split':(2,16)}\n",
    "hyper_type = round\n",
    "\n",
    "def objective(n_estimators, max_depth, min_samples_leaf, min_samples_split):\n",
    "    for param in hyper.keys():\n",
    "        hyper[param] = hyper_type(eval(param))\n",
    "    RF_model = RandomForestClassifier(n_estimators=int(n_estimators),\n",
    "                                     max_depth=int(max_depth),\n",
    "                                     min_samples_leaf=int(min_samples_leaf),\n",
    "                                     min_samples_split=int(min_samples_split),\n",
    "                                     random_state=0)\n",
    "    RF_model.fit(X_train, y_train)\n",
    "    y_pred = RF_model.predict(X_test)\n",
    "    colums_class = ['True', 'Pred']\n",
    "    df_class = pd.DataFrame(columns=colums_class)\n",
    "    df_class['True'] = y_test\n",
    "    df_class['Pred'] = y_pred\n",
    "    ret = precision_recall_fscore_support(df_class['True'], df_class['Pred'], average='micro')\n",
    "    p, r, f1, _ = ret\n",
    "    return np.average(f1)\n",
    "\n",
    "BO = BayesianOptimization(f= objective, pbounds=hyper)\n",
    "acquisition_function = UtilityFunction(kind='ei', xi=0.0001)\n",
    "BO.maximize(init_points=5, n_iter=20, acquisition_function=acquisition_function)"
   ],
   "metadata": {
    "collapsed": false,
    "pycharm": {
     "is_executing": true
    }
   }
  },
  {
   "cell_type": "code",
   "execution_count": null,
   "outputs": [],
   "source": [
    "params_opt = {}\n",
    "for param in BO.max['params'].keys():\n",
    "    params_opt[param] = round(BO.max['params'][param])\n",
    "\n",
    "RF_model = RandomForestClassifier(n_estimators=params_opt['n_estimators'],\n",
    "                                     max_depth=params_opt['max_depth'],\n",
    "                                     min_samples_leaf=params_opt['min_samples_leaf'],\n",
    "                                     min_samples_split=params_opt['min_samples_split'],\n",
    "                                     random_state=0)\n",
    "RF_model.fit(X_train, y_train)\n",
    "y_pred = RF_model.predict(X_test)\n",
    "colums_class = ['True', 'Pred']\n",
    "df_class = pd.DataFrame(columns=colums_class)\n",
    "df_class['True'] = y_test\n",
    "df_class['Pred'] = y_pred\n",
    "precision, recall, f1, _ = precision_recall_fscore_support( df_class['True'], df_class['Pred'])\n",
    "\n",
    "# print('{:>10} : {:.2f}'.format( 'accuracy', accuracy ) )\n",
    "print('{:>10} : {:.2f}'.format( 'precision', np.average(precision) ) )\n",
    "print('{:>10} : {:.2f}'.format( 'recall', np.average(recall) ) )\n",
    "print('{:>10} : {:.2f}'.format( 'f1', np.average(f1) ) )"
   ],
   "metadata": {
    "collapsed": false,
    "pycharm": {
     "is_executing": true
    }
   }
  }
 ],
 "metadata": {
  "kernelspec": {
   "display_name": "Python 3",
   "language": "python",
   "name": "python3"
  },
  "language_info": {
   "codemirror_mode": {
    "name": "ipython",
    "version": 3
   },
   "file_extension": ".py",
   "mimetype": "text/x-python",
   "name": "python",
   "nbconvert_exporter": "python",
   "pygments_lexer": "ipython3",
   "version": "3.6.8"
  },
  "toc": {
   "base_numbering": 1,
   "nav_menu": {},
   "number_sections": false,
   "sideBar": true,
   "skip_h1_title": false,
   "title_cell": "Sumário",
   "title_sidebar": "Sumário",
   "toc_cell": false,
   "toc_position": {
    "height": "calc(100% - 180px)",
    "left": "10px",
    "top": "150px",
    "width": "165px"
   },
   "toc_section_display": true,
   "toc_window_display": false
  }
 },
 "nbformat": 4,
 "nbformat_minor": 2
}
